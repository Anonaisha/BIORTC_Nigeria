{
 "cells": [
  {
   "cell_type": "markdown",
   "id": "35da6566-9833-4f09-a493-55d2a630feaa",
   "metadata": {},
   "source": [
    "# A quick guide to browsing DANDI datasets"
   ]
  },
  {
   "cell_type": "markdown",
   "id": "80b44bd6-8f70-4f44-8330-4fd7ec8d8fb6",
   "metadata": {},
   "source": [
    "The purpose of this notebook is to give you a guideline as to how to access the metadata of all DANDI data sets available and search for specific datasets using quick parameter specifications. Much of the code is directly taken from the [DANDI docs](https://docs.dandiarchive.org/) which provide a much more in-depth exploration.\n",
    "\n",
    "##### What we do here amounts to the following:\n",
    "1) [Import all DANDI sets that are in NWB format](#datasets-on-dandi)\n",
    "2) [Sort the DANDI sets by species and visualize](#species)\n",
    "3) [Sort by recording method and visualize](#recordings)\n",
    "4) [Access one example data set of interest based on species and recording specifications.](#specific)\n",
    "5) [Load the example data set](#load)"
   ]
  },
  {
   "cell_type": "markdown",
   "id": "c0a0a3c9-9c1d-448e-9a65-b752c05fe5be",
   "metadata": {},
   "source": [
    "# Datasets on DANDI"
   ]
  },
  {
   "cell_type": "code",
   "execution_count": null,
   "id": "7d621b2e-5329-46a2-9d6b-72c6d63d456d",
   "metadata": {},
   "outputs": [],
   "source": [
    "import json\n",
    "from dandi.dandiapi import DandiAPIClient\n",
    "from tqdm.notebook import tqdm\n",
    "import numpy as np\n",
    "from matplotlib.pyplot import *\n",
    "import operator\n",
    "plt.style.use(\"styleSettings.mplstyle\")\n"
   ]
  },
  {
   "cell_type": "code",
   "execution_count": 185,
   "id": "768cae44-2dde-4710-bd10-45466e49347d",
   "metadata": {},
   "outputs": [],
   "source": [
    "client = DandiAPIClient()\n",
    "dandisets = list(client.get_dandisets())"
   ]
  },
  {
   "cell_type": "code",
   "execution_count": 186,
   "id": "fb25d7d3-f9af-4143-8c57-0847bdb82d3f",
   "metadata": {},
   "outputs": [
    {
     "data": {
      "application/vnd.jupyter.widget-view+json": {
       "model_id": "2b1a8cb52810486d98722e0ed19bbdc3",
       "version_major": 2,
       "version_minor": 0
      },
      "text/plain": [
       "  0%|          | 0/664 [00:00<?, ?it/s]"
      ]
     },
     "metadata": {},
     "output_type": "display_data"
    },
    {
     "name": "stdout",
     "output_type": "stream",
     "text": [
      "There are currently 391 NWB datasets on DANDI!\n"
     ]
    }
   ],
   "source": [
    "nwb_dandisets = []\n",
    "\n",
    "for dandiset in tqdm(dandisets):\n",
    "    raw_metadata = dandiset.get_raw_metadata()\n",
    "\n",
    "    if any(\n",
    "        \"NWB\" in data_standard[\"name\"]\n",
    "        for data_standard in raw_metadata[\"assetsSummary\"].get(\"dataStandard\", [])\n",
    "    ):\n",
    "        nwb_dandisets.append(dandiset)\n",
    "print(f\"There are currently {len(nwb_dandisets)} NWB datasets on DANDI!\")"
   ]
  },
  {
   "cell_type": "markdown",
   "id": "2784c83d-9a55-4f0a-8166-4991e236e95d",
   "metadata": {},
   "source": [
    "## Overview of datasets per species <a id=\"species\"></a>"
   ]
  },
  {
   "cell_type": "markdown",
   "id": "29196e12-5f24-4cb4-bddb-395ce36ed6c0",
   "metadata": {},
   "source": [
    "Let's get an overview of how many data sets are uploaded for a specific species."
   ]
  },
  {
   "cell_type": "code",
   "execution_count": 224,
   "id": "33844457-4ac4-4137-bbff-806807996024",
   "metadata": {},
   "outputs": [
    {
     "data": {
      "application/vnd.jupyter.widget-view+json": {
       "model_id": "0453c47406824ee799a6f963fbd65305",
       "version_major": 2,
       "version_minor": 0
      },
      "text/plain": [
       "  0%|          | 0/391 [00:00<?, ?it/s]"
      ]
     },
     "metadata": {},
     "output_type": "display_data"
    },
    {
     "name": "stdout",
     "output_type": "stream",
     "text": [
      "Chosen species account for 366 NWB datasets on DANDI.\n"
     ]
    }
   ],
   "source": [
    "chosen_species = ['mouse', 'rat', 'human', 'monkey', 'fish', 'elegans', 'fly', 'rabbit', 'ant'] # define which species we're interested in\n",
    "dandiset_species = {s:[] for s in chosen_species}\n",
    "    \n",
    "for dandiset in tqdm(nwb_dandisets):\n",
    "    raw_metadata = dandiset.get_raw_metadata()\n",
    "    # try:\n",
    "    #     print(raw_metadata[\"assetsSummary\"]['species'][0]['name']) # check species names\n",
    "    # except:\n",
    "    #     continue\n",
    "    for specie in chosen_species:\n",
    "        if any(\n",
    "            specie in species[\"name\"].lower()\n",
    "            for species in raw_metadata[\"assetsSummary\"].get(\"species\", [])\n",
    "        ):\n",
    "            dandiset_species[specie].append(raw_metadata['identifier'])\n",
    "\n",
    "# combine to zebrafish names\n",
    "dandiset_species['fish'] = np.append(dandiset_species['fish'], dandiset_species['elegans'])\n",
    "dandiset_species.pop('elegans')\n",
    "chosen_species.remove('elegans')\n",
    "\n",
    "print(f\"Chosen species account for {np.sum([len(dandiset_species[s]) for s in chosen_species])} NWB datasets on DANDI.\")"
   ]
  },
  {
   "cell_type": "code",
   "execution_count": 225,
   "id": "94bb561d-20bb-46bd-b41c-01daa50dc70f",
   "metadata": {},
   "outputs": [
    {
     "data": {
      "image/png": "[encoded data removed]",
      "text/plain": [
       "<Figure size 600x375 with 1 Axes>"
      ]
     },
     "metadata": {},
     "output_type": "display_data"
    }
   ],
   "source": [
    "# get number of DANDISETS per species\n",
    "num_species = {s: len(dandiset_species[s]) for s in chosen_species}\n",
    "num_species = dict(sorted(num_species.items(), key=lambda item: item[1], reverse=True))\n",
    "6\n",
    "figure()\n",
    "for s_id, s in enumerate(num_species.keys()):\n",
    "    bar(s_id, num_species[s], color='cornflowerblue');\n",
    "xticks(np.arange(len(num_species)), num_species.keys(), rotation=45);\n",
    "ylabel('# of DANDI sets')\n",
    "savefig('./DatasetsBySpecies')"
   ]
  },
  {
   "cell_type": "markdown",
   "id": "5788f63c-d0d1-4ea7-a484-e3c6f0df0e56",
   "metadata": {},
   "source": [
    "## Which type of recordings are most often uploaded? <a id=\"recordings\"></a>"
   ]
  },
  {
   "cell_type": "code",
   "execution_count": 189,
   "id": "0f0c0773-b16f-44c0-9776-0db731649365",
   "metadata": {},
   "outputs": [
    {
     "data": {
      "application/vnd.jupyter.widget-view+json": {
       "model_id": "7ddcd8fbc077443e9af6d83d915d4695",
       "version_major": 2,
       "version_minor": 0
      },
      "text/plain": [
       "  0%|          | 0/391 [00:00<?, ?it/s]"
      ]
     },
     "metadata": {},
     "output_type": "display_data"
    },
    {
     "name": "stdout",
     "output_type": "stream",
     "text": [
      "Chosen recordings account for 268 NWB datasets on DANDI.\n"
     ]
    }
   ],
   "source": [
    "chosen_recordings = ['microscopy', 'electrophysiolog', 'two-photon', 'one-photon', 'current clamp', 'voltage clamp']\n",
    "dandiset_recording = {r:[] for r in chosen_recordings}\n",
    "    \n",
    "for dandiset in tqdm(nwb_dandisets):\n",
    "    raw_metadata = dandiset.get_raw_metadata()\n",
    "    # try: #explore the chosen names for variable techniques\n",
    "    #     print(' '.join([i['name'] for i in raw_metadata[\"assetsSummary\"]['measurementTechnique']])) # check species names\n",
    "    # except:\n",
    "    #     continue\n",
    "    for record in chosen_recordings: # determine which of the specified techniques is used\n",
    "        if record in ' '.join([i['name'] for i in raw_metadata[\"assetsSummary\"]['measurementTechnique']]):\n",
    "            dandiset_recording[record].append(raw_metadata['identifier'])\n",
    "\n",
    "print(f\"Chosen recordings account for {np.sum([len(dandiset_recording[r]) for r in chosen_recordings])} NWB datasets on DANDI.\")"
   ]
  },
  {
   "cell_type": "code",
   "execution_count": 190,
   "id": "3365ab66-168d-4bd5-967b-b5add6301a9e",
   "metadata": {},
   "outputs": [
    {
     "data": {
      "image/png": "[encoded data removed]",
      "text/plain": [
       "<Figure size 600x375 with 1 Axes>"
      ]
     },
     "metadata": {},
     "output_type": "display_data"
    }
   ],
   "source": [
    "# get number of DANDISETS per species, sort by occurence\n",
    "num_recording = {s: len(dandiset_recording[s]) for s in chosen_recordings}\n",
    "num_recording = dict(sorted(num_recording.items(), key=lambda item: item[1], reverse=True))\n",
    "\n",
    "figure()\n",
    "for r_id, r in enumerate(num_recording.keys()):\n",
    "    bar(r_id, num_recording[r], color='cornflowerblue');\n",
    "xticks(np.arange(len(num_recording)), num_recording.keys(), rotation=90);\n",
    "ylabel('# of DANDI sets')\n",
    "savefig('./DatasetsByImaging')"
   ]
  },
  {
   "cell_type": "markdown",
   "id": "e5247bb4-9792-4fa7-ad69-6b210f39aaa8",
   "metadata": {},
   "source": [
    "# Let's look for a specific dataset! <a id=\"specific\"></a>"
   ]
  },
  {
   "cell_type": "markdown",
   "id": "d8c7bec3-83e3-448e-81fe-d08f900efc00",
   "metadata": {},
   "source": [
    "We want to get more specific and query a data set based on both species and recording type.\n",
    "\n",
    "Let's imagine we're interested in all **ant** eyperiments using **two-photon imaging**..."
   ]
  },
  {
   "cell_type": "code",
   "execution_count": 239,
   "id": "68d856ca-5cd1-42eb-8ff5-04ee615e1933",
   "metadata": {},
   "outputs": [
    {
     "data": {
      "application/vnd.jupyter.widget-view+json": {
       "model_id": "449233f437104346b36befe705f04be8",
       "version_major": 2,
       "version_minor": 0
      },
      "text/plain": [
       "  0%|          | 0/391 [00:00<?, ?it/s]"
      ]
     },
     "metadata": {},
     "output_type": "display_data"
    },
    {
     "name": "stdout",
     "output_type": "stream",
     "text": [
      "There are 2 experiments matching: {'species': 'ant', 'recording': 'two-photon'} .\n"
     ]
    }
   ],
   "source": [
    "# example: mouse + two-photon\n",
    "variables = {'species': 'ant', 'recording': 'two-photon'}\n",
    "\n",
    "specifc_recording = []\n",
    "for dandiset in tqdm(nwb_dandisets): # search all dandisets\n",
    "    raw_metadata = dandiset.get_raw_metadata()\n",
    "\n",
    "    if any(variables['species'] in species[\"name\"].lower() for species in raw_metadata[\"assetsSummary\"].get(\"species\", [])) &\\\n",
    "                (variables['recording'] in ' '.join([i['name'] for i in raw_metadata[\"assetsSummary\"]['measurementTechnique']])): # specify variables of interest\n",
    "            specifc_recording.append(raw_metadata['identifier'])\n",
    "\n",
    "print(f'There are {len(specifc_recording)} experiments matching: {variables} .')"
   ]
  },
  {
   "cell_type": "markdown",
   "id": "179b9756-5df0-4476-812f-e8264dfc3e82",
   "metadata": {},
   "source": [
    "Voilá, we only have **two** potential data sets left! We want to first access more metadata from the first data set that shows up to get details of the experiments, potentially linked papers, number of subjects, etc."
   ]
  },
  {
   "cell_type": "code",
   "execution_count": 240,
   "id": "0249dd28-4926-4b6d-bca8-8e935c08477f",
   "metadata": {
    "scrolled": true
   },
   "outputs": [
    {
     "name": "stdout",
     "output_type": "stream",
     "text": [
      "Example DANDI set 000467 metadata:\n",
      "\n"
     ]
    },
    {
     "data": {
      "text/plain": [
       "{'id': 'DANDI:000467/draft',\n",
       " 'url': 'https://dandiarchive.org/dandiset/000467/draft',\n",
       " 'name': 'Sparse and stereotyped encoding implicates a core glomerulus for ant alarm behavior',\n",
       " 'about': [],\n",
       " 'access': [{'status': 'dandi:OpenAccess', 'schemaKey': 'AccessRequirements'}],\n",
       " 'license': ['spdx:CC-BY-4.0'],\n",
       " 'version': 'draft',\n",
       " '@context': 'https://raw.githubusercontent.com/dandi/schema/master/releases/0.6.4/context.json',\n",
       " 'citation': 'Sparse and stereotyped encoding implicates a core glomerulus for ant alarm behavior (2024). (Version draft) [Data set]. DANDI archive. https://dandiarchive.org/dandiset/000467/draft',\n",
       " 'keywords': ['antennal lobe; calcium imaging; chemosensation; clonal raider ant; communication; GCaMP; odor coding; olfaction; Ooceraea biroi; pheromone'],\n",
       " 'protocol': [],\n",
       " 'schemaKey': 'Dandiset',\n",
       " 'identifier': 'DANDI:000467',\n",
       " 'repository': 'https://dandiarchive.org',\n",
       " 'contributor': [{'name': 'National Institutes of Health (NIH)',\n",
       "   'roleName': ['dcite:Funder'],\n",
       "   'schemaKey': 'Organization',\n",
       "   'awardNumber': '1 R01 NS 123899-02'},\n",
       "  {'name': 'Hart, Taylor',\n",
       "   'email': 'thart@rockefeller.edu',\n",
       "   'roleName': ['dcite:Author',\n",
       "    'dcite:DataCollector',\n",
       "    'dcite:ContactPerson',\n",
       "    'dcite:Conceptualization'],\n",
       "   'schemaKey': 'Person',\n",
       "   'identifier': '0000-0001-9692-8150',\n",
       "   'affiliation': [],\n",
       "   'includeInCitation': False}],\n",
       " 'dateCreated': '2023-03-27T19:57:24.404459+00:00',\n",
       " 'description': 'In these experiments, we recorded odor-evoked calcium responses in the antennal lobe of the clonal raider ant (Ooceraea biroi). Transgenic ants expressed GCaMP6s in olfactory sensory neurons, and the right antennal lobe was imaged using a two-photon microscope. A piezo device and resonant scanning galvanometer were used to image whole-antennal lobe volumes at a rate of 0.83 volumes per second. 33 z-planes were imaged at 5 micrometer intervals. In each recording, odor stimulus commenced after 3s and lasted for 5s. Negative control: paraffin oil. General odorant stimuli: isopropanol, ethylpyrazine, ethanol, 3-hexanone, propionic acid. Ant alarm pheromones: 4-methyl-3-heptanone, 4-methyl-3-heptanol, 4-methyl-3-hexanol, 6-methyl-5-hepten-2-one.\\n\\nExperiment key:\\nGeneral odorant experiment subjects:\\nsub-ant1-m10-d6-y2022\\nsub-ant3-m10-d6-y2022\\nsub-ant1-m10-d11-y2022\\nsub-ant2-m10-d11-y2022\\nsub-ant3-m10-d11-y2022\\nsub-ant5-m10-d11-y2022\\n\\nBilateral antennal lobe imaging experiment subjects:\\nsub-ant2-m2-d10-y2023\\nsub-ant3-m2-d10-y2023\\nsub-ant4-m2-d10-y2023\\n\\nUnilateral alarm pheromone imaging experiment subjects:\\nsub-ant2-m4-d20-y2022\\nsub-ant4-m4-d20-y2022\\nsub-ant1-m4-d21-y2022\\nsub-ant2-m4-d21-y2022\\nsub-ant3-m4-d21-y2022\\nsub-ant1-m4-d26-y2022\\nsub-ant2-m4-d26-y2022\\nsub-ant3-m4-d26-y2022\\nsub-ant4-m4-d26-y2022\\nsub-ant5-m4-d26-y2022\\nsub-ant1-m4-d27-y2022\\nsub-ant2-m4-d27-y2022\\nsub-ant3-m4-d27-y2022',\n",
       " 'studyTarget': ['Odor and alarm pheromone representation in antennal lobe of the clonal raider ant'],\n",
       " 'assetsSummary': {'species': [{'name': 'Ooceraea biroi - Clonal raider ant',\n",
       "    'schemaKey': 'SpeciesType',\n",
       "    'identifier': 'http://purl.obolibrary.org/obo/NCBITaxon_2015173'}],\n",
       "  'approach': [{'name': 'microscopy approach; cell population imaging',\n",
       "    'schemaKey': 'ApproachType'}],\n",
       "  'schemaKey': 'AssetsSummary',\n",
       "  'dataStandard': [{'name': 'Neurodata Without Borders (NWB)',\n",
       "    'schemaKey': 'StandardsType',\n",
       "    'identifier': 'RRID:SCR_015242'}],\n",
       "  'numberOfBytes': 1262490250560,\n",
       "  'numberOfFiles': 14685,\n",
       "  'numberOfSubjects': 22,\n",
       "  'variableMeasured': ['OpticalChannel', 'ImagingPlane', 'TwoPhotonSeries'],\n",
       "  'measurementTechnique': [{'name': 'surgical technique',\n",
       "    'schemaKey': 'MeasurementTechniqueType'},\n",
       "   {'name': 'two-photon microscopy technique',\n",
       "    'schemaKey': 'MeasurementTechniqueType'}]},\n",
       " 'schemaVersion': '0.6.4',\n",
       " 'ethicsApproval': [],\n",
       " 'wasGeneratedBy': [],\n",
       " 'relatedResource': [],\n",
       " 'manifestLocation': ['https://api.dandiarchive.org/api/dandisets/000467/versions/draft/assets/']}"
      ]
     },
     "execution_count": 240,
     "metadata": {},
     "output_type": "execute_result"
    }
   ],
   "source": [
    "# get example session name\n",
    "example_set = specifc_recording[0].replace('DANDI:','')\n",
    "# get the associated dataset\n",
    "dandiset = client.get_dandiset(example_set)\n",
    "# print the belonging metadata\n",
    "print(f\"Example DANDI set {example_set} metadata:\\n\")\n",
    "dandiset.get_raw_metadata()"
   ]
  },
  {
   "cell_type": "markdown",
   "id": "19311b88-e929-49e9-a5bf-1bc6fa35f2eb",
   "metadata": {},
   "source": [
    "If this approach seems too messy, you can always explore the datasets more visually on [DANDI](https://dandiarchive.org/dandiset/000467/draft) using the URL or DANDI ID of the data set of interest.\\\n",
    "You can also explore the dataset directly in the DANDIHUB without having to download them. Also check in the /dandi-notebooks folder to see if there is already an associated example notebook to get you started."
   ]
  },
  {
   "cell_type": "markdown",
   "id": "1b7d4cb2-2815-48cc-a156-de3d09b5debb",
   "metadata": {},
   "source": [
    "## Load the example DANDI set! <a id=\"load\"></a>"
   ]
  },
  {
   "cell_type": "code",
   "execution_count": 238,
   "id": "c390fe96-2e8e-4068-8c25-5bf0f9731239",
   "metadata": {},
   "outputs": [],
   "source": [
    "from dandi.dandiapi import DandiAPIClient\n",
    "\n",
    "dandiset_id = specifc_recording[0].replace('DANDI:','')\n",
    "file_path = \"sub-17797/sub-17797_ses-9-scan-4_behavior+image+ophys.nwb\" # file size ~67GB\n",
    "\n",
    "# Get the location of the file on DANDI\n",
    "with DandiAPIClient() as client:\n",
    "    asset = client.get_dandiset(dandiset_id, 'draft').get_asset_by_path(file_path)\n",
    "    s3_url = asset.get_content_url(follow_redirects=1, strip_query=True)"
   ]
  },
  {
   "cell_type": "code",
   "execution_count": null,
   "id": "764cf854-7fb1-48d5-96e2-9ee2edbe663a",
   "metadata": {},
   "outputs": [],
   "source": []
  }
 ],
 "metadata": {
  "kernelspec": {
   "display_name": "Python 3 (ipykernel)",
   "language": "python",
   "name": "python3"
  },
  "language_info": {
   "codemirror_mode": {
    "name": "ipython",
    "version": 3
   },
   "file_extension": ".py",
   "mimetype": "text/x-python",
   "name": "python",
   "nbconvert_exporter": "python",
   "pygments_lexer": "ipython3",
   "version": "3.11.10"
  }
 },
 "nbformat": 4,
 "nbformat_minor": 5
}
