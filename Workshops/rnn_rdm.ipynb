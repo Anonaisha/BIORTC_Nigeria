{
  "cells": [
    {
      "cell_type": "markdown",
      "metadata": {
        "id": "view-in-github",
        "colab_type": "text"
      },
      "source": [
        "<a href=\"https://colab.research.google.com/github/shepai/BIORTC_Nigeria/blob/main/Workshops/rnn_rdm.ipynb\" target=\"_parent\"><img src=\"https://colab.research.google.com/assets/colab-badge.svg\" alt=\"Open In Colab\"/></a>"
      ]
    },
    {
      "cell_type": "markdown",
      "id": "aae72aec-6487-4426-acc0-8ba67220dd30",
      "metadata": {
        "id": "aae72aec-6487-4426-acc0-8ba67220dd30"
      },
      "source": [
        "Training Recurrent Neural Networks\n",
        "==================================\n",
        "\n"
      ]
    },
    {
      "cell_type": "markdown",
      "source": [],
      "metadata": {
        "id": "yx5ON-34gRHD"
      },
      "id": "yx5ON-34gRHD"
    },
    {
      "cell_type": "markdown",
      "id": "5633f6ed-e3b1-426c-8a14-309d3fcc452d",
      "metadata": {
        "id": "5633f6ed-e3b1-426c-8a14-309d3fcc452d"
      },
      "source": [
        "## Settings\n",
        "\n"
      ]
    },
    {
      "cell_type": "code",
      "execution_count": 7,
      "id": "81c566a7-abd1-430b-95b4-aa112ff84b36",
      "metadata": {
        "id": "81c566a7-abd1-430b-95b4-aa112ff84b36",
        "colab": {
          "base_uri": "https://localhost:8080/",
          "height": 35
        },
        "outputId": "75a08a05-328b-4b35-95cf-d8f5f41c6072"
      },
      "outputs": [
        {
          "output_type": "display_data",
          "data": {
            "text/plain": [
              "<Figure size 640x480 with 0 Axes>"
            ]
          },
          "metadata": {}
        }
      ],
      "source": [
        "import matplotlib.pyplot as plt\n",
        "\n",
        "import warnings\n",
        "warnings.simplefilter(action='ignore', category=FutureWarning)\n",
        "\n",
        "golden_ratio = (5**.5 - 1) / 2\n",
        "width = 5\n",
        "height = width * golden_ratio\n",
        "\n",
        "plt.rc(\"axes.spines\", top=False, right=False)\n",
        "plt.rcParams['lines.linewidth'] = 3\n",
        "plt.rcParams[\"figure.autolayout\"] = True\n",
        "plt.rcParams['lines.markersize'] = 5\n",
        "plt.rcParams['axes.labelsize'] = 18\n",
        "plt.rcParams['axes.titlesize'] = 20\n",
        "plt.rcParams['xtick.labelsize'] = 16\n",
        "plt.rcParams['ytick.labelsize'] = 16"
      ]
    },
    {
      "cell_type": "markdown",
      "id": "f58208e9-ed65-42a7-b3f1-2ab0dc5843ad",
      "metadata": {
        "id": "f58208e9-ed65-42a7-b3f1-2ab0dc5843ad"
      },
      "source": [
        "## Imports\n",
        "\n"
      ]
    },
    {
      "cell_type": "code",
      "execution_count": 2,
      "id": "118c9386-c9f8-4f76-8697-0ecf862b40c6",
      "metadata": {
        "id": "118c9386-c9f8-4f76-8697-0ecf862b40c6"
      },
      "outputs": [],
      "source": [
        "import torch\n",
        "import torch.nn as nn\n",
        "import torch.optim as optim\n",
        "import matplotlib.pyplot as plt\n",
        "import numpy as np"
      ]
    },
    {
      "cell_type": "code",
      "execution_count": 3,
      "id": "1dcf35ca-c6f4-430c-b8f1-976d03cf88e5",
      "metadata": {
        "id": "1dcf35ca-c6f4-430c-b8f1-976d03cf88e5"
      },
      "outputs": [],
      "source": [
        "torch.manual_seed(2)\n",
        "np.random.seed(2)"
      ]
    },
    {
      "cell_type": "markdown",
      "id": "5256f9e3-a795-4e35-9a8f-410f1d311fcd",
      "metadata": {
        "id": "5256f9e3-a795-4e35-9a8f-410f1d311fcd"
      },
      "source": [
        "## 🧠 Dynamical RNNs\n",
        "\n"
      ]
    },
    {
      "cell_type": "markdown",
      "id": "899da303-c622-47eb-8556-ccddf148783d",
      "metadata": {
        "id": "899da303-c622-47eb-8556-ccddf148783d"
      },
      "source": [
        "Let:\n",
        "\n",
        "-   $ x_t $: feedforward input at time step $ t $\n",
        "-   $ r_t $: rate at time $ t $\n",
        "-   $ y_t $: output at time $ t $\n",
        "\n",
        "$$\n",
        "r_t = (1 - \\frac{\\delta t}{\\tau}) r_{t-1} + \\frac{\\Delta t}{\\tau} \\mathcal{F}(W_{ih} x_t + b_{ih} + W_{hh} r_{t-1})\n",
        "$$\n",
        "\n",
        "$$\n",
        "y_t = \\mathcal{S}(W_{ho} r_t + b_o)\n",
        "$$\n"
      ]
    },
    {
      "cell_type": "code",
      "execution_count": 4,
      "id": "f8936f67-9887-4aeb-9594-e63699df6e9b",
      "metadata": {
        "id": "f8936f67-9887-4aeb-9594-e63699df6e9b"
      },
      "outputs": [],
      "source": [
        "class BioRNNModel(nn.Module):\n",
        "    def __init__(self, input_size, hidden_size, output_size, dt=0.1, tau=1.0, sigma=0.1):\n",
        "        super().__init__()\n",
        "        # input layer\n",
        "        self.wi = nn.Linear(input_size, hidden_size)\n",
        "        # recurrent layer\n",
        "        self.wrec = nn.Parameter(torch.Tensor(hidden_size, hidden_size))\n",
        "        nn.init.xavier_uniform_(self.wrec)\n",
        "        # output layer\n",
        "        self.wo = nn.Linear(hidden_size, output_size)\n",
        "        # non linearity\n",
        "        self.nonlinearity = torch.tanh\n",
        "        # time constant\n",
        "        self.DT_TAU = dt / tau\n",
        "        # variance of the noise\n",
        "        self.sigma = sigma\n",
        "\n",
        "\n",
        "    def update_dynamics(self, ff_inputs, rates, noise):\n",
        "        # updating the recurrent inputs and rates\n",
        "        rec_inputs = rates @ self.wrec.T # / rates.shape[-1]\n",
        "        nonlinear = self.nonlinearity(self.wi(ff_inputs) + rec_inputs)\n",
        "        rates = (1-self.DT_TAU) * rates + self.DT_TAU * nonlinear + torch.sqrt(torch.tensor(self.DT_TAU))* noise\n",
        "\n",
        "        return rates, rec_inputs\n",
        "\n",
        "\n",
        "    def forward(self, ff_inputs):\n",
        "        # ff_input is (n_trials, seq_len, input_size)\n",
        "        # rates and rec_inputs are (n_trials, hidden_size)\n",
        "        noise = self.sigma * torch.randn(ff_inputs.shape[0], self.wrec.shape[0])\n",
        "        rec_inputs = torch.randn(ff_inputs.shape[0], self.wrec.shape[0])\n",
        "        rates = self.nonlinearity(self.wi(ff_inputs[:, -1]) + rec_inputs)\n",
        "\n",
        "        readout_list = []\n",
        "\n",
        "        for step in range(ff_inputs.shape[1]):\n",
        "            rates, rec_inputs = self.update_dynamics(ff_inputs[:, step], rates, noise)\n",
        "            readout = self.wo(rates)\n",
        "            readout_list.append(readout)\n",
        "\n",
        "        readout_list = torch.stack(readout_list, dim=1)\n",
        "\n",
        "        return readout_list"
      ]
    },
    {
      "cell_type": "markdown",
      "id": "34403460-15ca-4593-a84e-4d3d02a5fb98",
      "metadata": {
        "id": "34403460-15ca-4593-a84e-4d3d02a5fb98"
      },
      "source": [
        "---\n",
        "\n"
      ]
    },
    {
      "cell_type": "markdown",
      "id": "ee111f59-0842-4e2c-bcd4-b0fa54d94dc6",
      "metadata": {
        "id": "ee111f59-0842-4e2c-bcd4-b0fa54d94dc6"
      },
      "source": [
        "## Initializing the model\n",
        "\n"
      ]
    },
    {
      "cell_type": "code",
      "execution_count": 5,
      "id": "b67276ee-d5dd-4e5a-ba5c-882a9f96d128",
      "metadata": {
        "id": "b67276ee-d5dd-4e5a-ba5c-882a9f96d128",
        "colab": {
          "base_uri": "https://localhost:8080/",
          "height": 109
        },
        "outputId": "40a57f95-743d-4a3f-8c88-a7324c678359"
      },
      "outputs": [
        {
          "output_type": "error",
          "ename": "SyntaxError",
          "evalue": "invalid syntax (ipython-input-5-3430239400.py, line 6)",
          "traceback": [
            "\u001b[0;36m  File \u001b[0;32m\"/tmp/ipython-input-5-3430239400.py\"\u001b[0;36m, line \u001b[0;32m6\u001b[0m\n\u001b[0;31m    model = # your code here\u001b[0m\n\u001b[0m            ^\u001b[0m\n\u001b[0;31mSyntaxError\u001b[0m\u001b[0;31m:\u001b[0m invalid syntax\n"
          ]
        }
      ],
      "source": [
        "input_size = 1\n",
        "hidden_size = 256\n",
        "output_size = 1\n",
        "\n",
        "# initialize the model\n",
        "model = # your code here"
      ]
    },
    {
      "cell_type": "markdown",
      "id": "ce797363-559a-4b25-9310-fd1a0724a0da",
      "metadata": {
        "id": "ce797363-559a-4b25-9310-fd1a0724a0da"
      },
      "source": [
        "## The random dot motion task\n",
        "\n"
      ]
    },
    {
      "cell_type": "markdown",
      "source": [
        "We define the parameters of the task (stimuli time, response time, ...)"
      ],
      "metadata": {
        "id": "De7sgvqQtZDD"
      },
      "id": "De7sgvqQtZDD"
    },
    {
      "cell_type": "code",
      "execution_count": null,
      "id": "7b429495-677a-4716-a10b-ba5c3662343c",
      "metadata": {
        "id": "7b429495-677a-4716-a10b-ba5c3662343c"
      },
      "outputs": [],
      "source": [
        "DT = 0.1 # in second\n",
        "\n",
        "fixation_onset = 0\n",
        "fixation_offset = int(0.5 / DT)\n",
        "\n",
        "stim_onset = int(1 / DT)\n",
        "stim_offset = int(2 / DT)\n",
        "\n",
        "response_onset = int(3 / DT)\n",
        "seq_len = int(4 / DT)\n",
        "model(inputs).squeeze((-1)).detach().cpu()\n",
        "x_time = np.linspace(0, 4, seq_len)"
      ]
    },
    {
      "cell_type": "markdown",
      "id": "6aaa7339-07cc-4fae-8025-963915fe5d4e",
      "metadata": {
        "id": "6aaa7339-07cc-4fae-8025-963915fe5d4e"
      },
      "source": [
        "### A random dot motion task\n",
        "\n"
      ]
    },
    {
      "cell_type": "code",
      "execution_count": null,
      "id": "7b9fa39a-081f-44e3-9a5c-286512d104af",
      "metadata": {
        "id": "7b9fa39a-081f-44e3-9a5c-286512d104af"
      },
      "outputs": [],
      "source": [
        "def generate_rdm_trials(n_trials, seq_len=seq_len, coherences=np.linspace(-5, 5, 10), noise=.1):\n",
        "    '''\n",
        "    :param n_trials: int\n",
        "    :param coherences: list of acceptable coherence values if needed\n",
        "    :return: inputs, targets , mask and coherence\n",
        "   '''\n",
        "\n",
        "    coherences = torch.tensor(coherences)\n",
        "\n",
        "    # sensory and contextual inputs are stored in inputs\n",
        "    inputs = torch.zeros((n_trials, seq_len, 1))\n",
        "    targets = torch.zeros((n_trials, seq_len))\n",
        "    mask = torch.zeros((1, seq_len))\n",
        "\n",
        "    # your code goes here\n",
        "\n",
        "    return inputs, targets, mask, coherence"
      ]
    },
    {
      "cell_type": "markdown",
      "id": "c77ba4ff-47be-4f84-8fed-82c91b74adc4",
      "metadata": {
        "id": "c77ba4ff-47be-4f84-8fed-82c91b74adc4"
      },
      "source": [
        "#### Solution\n",
        "\n"
      ]
    },
    {
      "cell_type": "code",
      "execution_count": null,
      "id": "39c8a660-3931-4cfb-99e9-3c9ceb6ed5b7",
      "metadata": {
        "id": "39c8a660-3931-4cfb-99e9-3c9ceb6ed5b7"
      },
      "outputs": [],
      "source": [
        "def generate_rdm_trials(n_trials, seq_len=seq_len, coherences=np.linspace(-5, 5, 10), noise=.1):\n",
        "    '''\n",
        "    :param n_trials: int\n",
        "    :param coherences: list of acceptable coherence values if needed\n",
        "    :return: inputs, targets and mask\n",
        "   '''\n",
        "\n",
        "    coherences = torch.tensor(coherences)\n",
        "\n",
        "    # sensory and contextual inputs are stored in inputs\n",
        "    inputs = torch.zeros((n_trials, seq_len, 1))\n",
        "    targets = torch.zeros((n_trials, seq_len))\n",
        "    mask = torch.zeros((1, seq_len))\n",
        "\n",
        "    # adding noise to sensory inputs\n",
        "    inputs[..., 0] = noise * torch.randn((n_trials, seq_len))\n",
        "\n",
        "    # randomizing coherence across trials\n",
        "    idx_coherence = torch.randint(0, len(coherences)-1, size=(n_trials, 1))\n",
        "    coherence = coherences[idx_coherence]\n",
        "    inputs[:, stim_onset:stim_offset, 0] +=  coherence * noise\n",
        "\n",
        "    # setting target upon coherence sign\n",
        "    targets[:, response_onset:] = 1.0 * (coherence>0) - 1.0 * (coherence<=0)\n",
        "\n",
        "    # setting response window\n",
        "    mask[:, response_onset:] = 1\n",
        "\n",
        "    return inputs, targets, mask, coherence"
      ]
    },
    {
      "cell_type": "markdown",
      "id": "07eac4fa-34ec-4200-975d-b3bb86c4eb94",
      "metadata": {
        "id": "07eac4fa-34ec-4200-975d-b3bb86c4eb94"
      },
      "source": [
        "### Visualization\n",
        "\n"
      ]
    },
    {
      "cell_type": "code",
      "execution_count": null,
      "id": "b81d0e65-2f8b-4cc9-89fd-288ad3948460",
      "metadata": {
        "id": "b81d0e65-2f8b-4cc9-89fd-288ad3948460"
      },
      "outputs": [],
      "source": [
        "n_trials = 512\n",
        "# generate task trials\n",
        "inputs, targets, mask, coherence = # your code goes here\n",
        "print(inputs.shape, targets.shape, mask.shape, coherence.shape)"
      ]
    },
    {
      "cell_type": "markdown",
      "source": [
        "We plot the histogram of coherences and targets"
      ],
      "metadata": {
        "id": "6qNUyewlsUC7"
      },
      "id": "6qNUyewlsUC7"
    },
    {
      "cell_type": "code",
      "execution_count": null,
      "id": "4c509d38-ac66-4aae-a24a-3dfd059ee926",
      "metadata": {
        "id": "4c509d38-ac66-4aae-a24a-3dfd059ee926"
      },
      "outputs": [],
      "source": [
        "plt.hist(coherence[:, 0])\n",
        "plt.hist(targets[:, -1])\n",
        "plt.xlabel('coherence and targets')\n",
        "plt.ylabel('Count')\n",
        "plt.show()"
      ]
    },
    {
      "cell_type": "markdown",
      "source": [
        "Let's plot the left and right trials"
      ],
      "metadata": {
        "id": "swqJuUvUsZIp"
      },
      "id": "swqJuUvUsZIp"
    },
    {
      "cell_type": "code",
      "execution_count": null,
      "id": "f291e0cc-31f7-4341-9778-2d975f71e825",
      "metadata": {
        "id": "f291e0cc-31f7-4341-9778-2d975f71e825"
      },
      "outputs": [],
      "source": [
        "# find left and right trials\n",
        "idx_left = # your code goes here\n",
        "idx_right = # your code goes here\n",
        "print(idx_right.shape, idx_left.shape)"
      ]
    },
    {
      "cell_type": "code",
      "execution_count": null,
      "id": "9431251a-0372-4e1f-9c3e-6d0ba1367a14",
      "metadata": {
        "id": "9431251a-0372-4e1f-9c3e-6d0ba1367a14"
      },
      "outputs": [],
      "source": [
        "fig , ax = plt.subplots(1, 2, figsize=(2*width, height))\n",
        "\n",
        "ax[0].plot(x_time, inputs[idx_left, :, 0].mT.cpu().numpy(), alpha=.2)\n",
        "ax[0].plot(x_time, targets[idx_left[0]].cpu().numpy(), 'k', label='Target')\n",
        "ax[0].set_title('Left Saccade')\n",
        "\n",
        "ax[1].plot(x_time, inputs[idx_right, :, 0].mT.cpu().numpy(), alpha=.2)\n",
        "ax[1].plot(x_time, targets[idx_right[0]].cpu().numpy(), 'k', label='Target')\n",
        "ax[1].set_title('Right Saccade')\n",
        "\n",
        "for i in range(2):\n",
        "    ax[i].axvspan(stim_onset * DT, stim_offset * DT, alpha=0.3)\n",
        "    ax[i].axvspan(response_onset * DT, seq_len * DT, alpha=0.3, color='g')\n",
        "    ax[i].set_ylim([-1.1, 1.1])\n",
        "    ax[i].set_xlabel('Time (s)')\n",
        "    ax[i].set_ylabel('FF Inputs')\n",
        "    ax[i].legend(fontsize=14)\n",
        "plt.show()"
      ]
    },
    {
      "cell_type": "markdown",
      "id": "f2c2b21a-f541-48df-b3dd-5d698d2acecd",
      "metadata": {
        "id": "f2c2b21a-f541-48df-b3dd-5d698d2acecd"
      },
      "source": [
        "Testing the naive network\n",
        "\n"
      ]
    },
    {
      "cell_type": "code",
      "execution_count": null,
      "id": "3a168495-1cee-4d72-ae4e-113a33225114",
      "metadata": {
        "id": "3a168495-1cee-4d72-ae4e-113a33225114"
      },
      "outputs": [],
      "source": [
        "# test the model\n",
        "predictions = # your code goes here\n",
        "print('inputs', inputs.shape, 'predictions', predictions.shape)"
      ]
    },
    {
      "cell_type": "markdown",
      "source": [
        "We plot the output of the network"
      ],
      "metadata": {
        "id": "XHttupfXsd6n"
      },
      "id": "XHttupfXsd6n"
    },
    {
      "cell_type": "code",
      "execution_count": null,
      "id": "dad57a16-3fc3-4b61-9a4e-751123c5d953",
      "metadata": {
        "id": "dad57a16-3fc3-4b61-9a4e-751123c5d953"
      },
      "outputs": [],
      "source": [
        "fig , ax = plt.subplots(1, 2, figsize=(2*width, height))\n",
        "\n",
        "ax[0].plot(x_time, targets[idx_left].T, 'k')\n",
        "ax[0].plot(x_time, predictions[idx_left].T, alpha=.2)\n",
        "ax[0].set_title('Left context')\n",
        "\n",
        "ax[1].plot(x_time, targets[idx_right].T, 'k')\n",
        "ax[1].plot(x_time, predictions[idx_right].T, alpha=.2)\n",
        "ax[1].set_title('Right context')\n",
        "\n",
        "for i in range(2):\n",
        "    ax[i].axvspan(stim_onset * DT, stim_offset * DT, alpha=0.3)\n",
        "    ax[i].axvspan(response_onset * DT, seq_len * DT, alpha=0.3, color='g')\n",
        "    ax[i].set_xlabel(\"Time (s)\")\n",
        "    ax[i].set_ylabel(\"Readout\")\n",
        "    ax[i].set_ylim([-1.5, 1.5])\n",
        "    # ax[i].legend(fontsize=14)\n",
        "\n",
        "plt.show()"
      ]
    },
    {
      "cell_type": "markdown",
      "id": "eba05b6f-f086-4c26-b175-f35881286f63",
      "metadata": {
        "id": "eba05b6f-f086-4c26-b175-f35881286f63"
      },
      "source": [
        "## Training the model\n",
        "\n"
      ]
    },
    {
      "cell_type": "markdown",
      "source": [
        "We set the parameters of the optimization"
      ],
      "metadata": {
        "id": "sI2m64pIsih4"
      },
      "id": "sI2m64pIsih4"
    },
    {
      "cell_type": "code",
      "execution_count": null,
      "id": "2765e8df-4b2f-4be3-9e3e-f956f30d7a85",
      "metadata": {
        "id": "2765e8df-4b2f-4be3-9e3e-f956f30d7a85"
      },
      "outputs": [],
      "source": [
        "learning_rate = 0.05\n",
        "epochs = 50\n",
        "batch_size = 32"
      ]
    },
    {
      "cell_type": "markdown",
      "source": [
        "and define our optimization loop"
      ],
      "metadata": {
        "id": "sxwEyQ2dsmWP"
      },
      "id": "sxwEyQ2dsmWP"
    },
    {
      "cell_type": "code",
      "execution_count": null,
      "id": "2085c01a-982e-4da8-abc7-64eb7f6ec6c8",
      "metadata": {
        "id": "2085c01a-982e-4da8-abc7-64eb7f6ec6c8"
      },
      "outputs": [],
      "source": [
        "from torch.utils.data import DataLoader, TensorDataset\n",
        "\n",
        "def optimization(model, X, Y, criterion, optimizer, mask=1, epochs=30, batch_size=32, bl=stim_offset, verbose=1):\n",
        "    dataset = TensorDataset(X, Y)\n",
        "    loader = DataLoader(dataset, batch_size=batch_size, shuffle=True)\n",
        "\n",
        "    loss_list = []\n",
        "    for epoch in range(epochs):\n",
        "        total_loss = 0\n",
        "        for batch_x, batch_y in loader:\n",
        "\n",
        "            output = model(batch_x).squeeze(-1)\n",
        "            # compute the errors during the response window\n",
        "            loss = criterion(output, batch_y) * mask\n",
        "            loss = torch.mean(loss)\n",
        "\n",
        "            # impose zero output before stimulus offset\n",
        "            loss_bl = criterion(output[:, :bl], batch_y[:, :bl]*0) * (1-mask[:, :bl])\n",
        "            loss += torch.mean(loss_bl)\n",
        "\n",
        "            # propagate the loss backwards\n",
        "            loss.backward()\n",
        "            # update the weights\n",
        "            optimizer.step()\n",
        "            # reset the weights for the next pass\n",
        "            optimizer.zero_grad()\n",
        "\n",
        "            total_loss += loss.item()\n",
        "\n",
        "        loss_list.append(total_loss)\n",
        "\n",
        "        if (verbose) and (((epoch+1) % 5==0) or (epoch==epochs-1) or (epoch==0)):\n",
        "            print(f'Epoch {epoch+1}/{epochs}, Training Loss: {loss:.4f}')\n",
        "\n",
        "    return loss_list"
      ]
    },
    {
      "cell_type": "markdown",
      "source": [
        "now we define our loss and optimizer and run the optimization"
      ],
      "metadata": {
        "id": "bhcBGofuspss"
      },
      "id": "bhcBGofuspss"
    },
    {
      "cell_type": "code",
      "execution_count": null,
      "id": "e660e7ed-0753-4b90-8e13-b5d23aab5d49",
      "metadata": {
        "id": "e660e7ed-0753-4b90-8e13-b5d23aab5d49"
      },
      "outputs": [],
      "source": [
        "criterion = # add a loss nn.MSELoss(reduction='none')\n",
        "optimizer = # choose an optimizer optim.Adam(model.parameters(), lr=learning_rate)\n",
        "loss = # run the optimization optimization(model, inputs, targets, criterion, optimizer, mask, epochs)"
      ]
    },
    {
      "cell_type": "markdown",
      "id": "7c4930c8-09ed-4feb-a3c1-5d6b0f6cdf88",
      "metadata": {
        "id": "7c4930c8-09ed-4feb-a3c1-5d6b0f6cdf88"
      },
      "source": [
        "## Testing the model\n",
        "\n"
      ]
    },
    {
      "cell_type": "code",
      "execution_count": null,
      "id": "66bcc175-5167-4d9b-a786-87c33403248b",
      "metadata": {
        "id": "66bcc175-5167-4d9b-a786-87c33403248b"
      },
      "outputs": [],
      "source": [
        "# inputs, targets, mask, coherence = generate_rdm_trials(n_trials)\n",
        "predictions = model(inputs).squeeze((-1)).detach().cpu()\n",
        "print('inputs', inputs.shape, 'predictions', predictions.shape)"
      ]
    },
    {
      "cell_type": "markdown",
      "source": [
        "Let's split trials by targets"
      ],
      "metadata": {
        "id": "Hrr3xIONsuQe"
      },
      "id": "Hrr3xIONsuQe"
    },
    {
      "cell_type": "code",
      "execution_count": null,
      "id": "c966c5d4-afd0-4d65-833a-d474d1504897",
      "metadata": {
        "id": "c966c5d4-afd0-4d65-833a-d474d1504897"
      },
      "outputs": [],
      "source": [
        "idx_left = torch.argwhere(targets[:, -1] == -1).reshape(-1)\n",
        "idx_right = torch.argwhere(targets[:, -1] == 1).reshape(-1)\n",
        "print(idx_right.shape, idx_left.shape)"
      ]
    },
    {
      "cell_type": "code",
      "execution_count": null,
      "id": "e62552e4-1c38-49fa-b912-8aaaea1f397d",
      "metadata": {
        "id": "e62552e4-1c38-49fa-b912-8aaaea1f397d"
      },
      "outputs": [],
      "source": [
        "fig , ax = plt.subplots(1, 2, figsize=(2*width, height))\n",
        "\n",
        "ax[0].plot(x_time, targets[idx_left].T, 'k')\n",
        "ax[0].plot(x_time, predictions[idx_left].T, alpha=.2)\n",
        "ax[0].set_title('Left Saccade')\n",
        "\n",
        "ax[1].plot(x_time, targets[idx_right].T, 'k')\n",
        "ax[1].plot(x_time, predictions[idx_right].T, alpha=.2)\n",
        "ax[1].set_title('Right Saccade')\n",
        "\n",
        "for i in range(2):\n",
        "    ax[i].axvspan(stim_onset * DT, stim_offset * DT, alpha=0.3)\n",
        "    ax[i].axvspan(response_onset * DT, seq_len * DT, alpha=0.3, color='g')\n",
        "    ax[i].set_xlabel(\"Time (s)\")\n",
        "    ax[i].set_ylabel(\"Readout\")\n",
        "    ax[i].set_ylim([-1.5, 1.5])\n",
        "    # ax[i].legend(fontsize=14)\n",
        "\n",
        "plt.show()"
      ]
    },
    {
      "cell_type": "markdown",
      "source": [
        "Let's compute the probability of a right choice in the network"
      ],
      "metadata": {
        "id": "rcOnJV9LsxnR"
      },
      "id": "rcOnJV9LsxnR"
    },
    {
      "cell_type": "code",
      "execution_count": null,
      "id": "94138b6f-7542-441b-9f7d-c9a257e4ab3a",
      "metadata": {
        "id": "94138b6f-7542-441b-9f7d-c9a257e4ab3a"
      },
      "outputs": [],
      "source": [
        "prob = torch.sigmoid(predictions[:, -1])\n",
        "idx = torch.where(targets[:, -1]==1)\n",
        "\n",
        "plt.hist(prob.cpu())\n",
        "plt.xlabel('P(Choice = Right)')\n",
        "plt.ylabel('Count')\n",
        "plt.show()"
      ]
    },
    {
      "cell_type": "markdown",
      "source": [
        "Now we can plot a psychometric curve"
      ],
      "metadata": {
        "id": "OxboIr_Ws2P7"
      },
      "id": "OxboIr_Ws2P7"
    },
    {
      "cell_type": "code",
      "execution_count": null,
      "id": "42a97a7b-39b3-427b-9c41-d272e1e47039",
      "metadata": {
        "id": "42a97a7b-39b3-427b-9c41-d272e1e47039"
      },
      "outputs": [],
      "source": [
        "import numpy as np\n",
        "import matplotlib.pyplot as plt\n",
        "\n",
        "# Assuming prob and coherences defined as above\n",
        "bins = np.sort(np.unique(coherence[:,0]))\n",
        "psychometric = [prob[coherence[:, 0] == c].mean().item() for c in bins]\n",
        "\n",
        "plt.plot(bins, psychometric, 'o-')\n",
        "plt.xlabel('Motion Coherence')\n",
        "plt.ylabel('P(Choice = Right)')\n",
        "plt.ylim([-0.1, 1])\n",
        "plt.show()"
      ]
    },
    {
      "cell_type": "code",
      "execution_count": null,
      "id": "14e291c7-bd8e-44a4-8b1f-c93d390724a1",
      "metadata": {
        "id": "14e291c7-bd8e-44a4-8b1f-c93d390724a1"
      },
      "outputs": [],
      "source": []
    }
  ],
  "metadata": {
    "org": null,
    "kernelspec": {
      "display_name": "Python 3",
      "language": "python",
      "name": "python3"
    },
    "language_info": {
      "codemirror_mode": {
        "name": "ipython",
        "version": 3
      },
      "file_extension": ".py",
      "mimetype": "text/x-python",
      "name": "python",
      "nbconvert_exporter": "python",
      "pygments_lexer": "ipython3",
      "version": "3.5.2"
    },
    "colab": {
      "provenance": [],
      "include_colab_link": true
    }
  },
  "nbformat": 4,
  "nbformat_minor": 5
}