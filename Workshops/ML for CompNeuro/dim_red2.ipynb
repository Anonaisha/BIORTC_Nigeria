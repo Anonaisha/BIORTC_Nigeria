{
 "cells": [
  {
   "cell_type": "markdown",
   "metadata": {},
   "source": [
    "# Dimensionality Reduction\n",
    "\n",
    "When working with neuroscientific data, an essential first step before modeling or analysis is **preprocessing**. This includes preparing the data in a way that allows us to extract meaningful patterns while reducing noise and complexity. In this tutorial, we will apply the techniques you have explored to real neuroscience data.\n",
    "\n",
    "### What you will learn\n",
    "- How to apply these techniques to real neural data recorded from the prefrontal cortex of a monkey during a working memory task\n",
    "- How to decode the memorized cue from the monkey's brain activity using reduced data\n",
    "\n"
   ]
  },
  {
   "cell_type": "markdown",
   "metadata": {},
   "source": [
    "## Principal Component Analysis (PCA)\n",
    "\n",
    "We begin with one of the most commonly used dimensionality reduction techniques: Principal Component Analysis (PCA). PCA is a linear method that finds the directions (principal components) along which the variance of the data is maximized.\n",
    "\n",
    "PCA is useful because it simplifies the data by projecting it onto a smaller number of dimensions while preserving as much variance as possible. This often makes it easier to visualize, analyze, and interpret complex neural data.\n",
    "\n",
    "### Loading and Inspecting the Data\n",
    "\n",
    "We will use neural data recorded from the prefrontal cortex of a monkey performing a working memory task.\n",
    "\n",
    "The task structure is as follows: a cue is presented on the screen for 0.5 seconds, followed by a 3-second delay period—a relatively long delay compared to many primate neurophysiology studies. The task involved eight stimuli representing angular locations (0º, 45º, 90º, 135º, 180º, 225º, 270º, and 315º).\n",
    "\n",
    "Only trials in which the monkeys performed correctly were included in the analysis.\n",
    "\n",
    "The data is organized in a dictionary, with neural activity arranged in a matrix where each row corresponds to a trial and each column corresponds to a neuron. Each value represents the neuron's average activity during a defined time window within the trial.\n",
    "\n",
    "Make sure, the data we are working with is in the correct dictionary: ...\n",
    "\n",
    "For detailed information on the dataset and experimental design, refer to the original paper:  \n",
    "[Murray et al., 2017, PNAS](https://raw.githubusercontent.com/wimmerlab/MBC_data_analysis/main/A7_DimensionalityReduction/Murray_PNAS_2017.pdf)\n",
    "\n",
    "the main goal of this analysis is to test whether the population of prefrontal cortex neurons maintains a stable, low-dimensional, representation of the cue during the delay period.\n",
    "We will reproduce some of the key figures from the Murray et al. 2017 paper, with some simplifications. - ...\n",
    "\n"
   ]
  },
  {
   "cell_type": "code",
   "execution_count": null,
   "metadata": {
    "vscode": {
     "languageId": "plaintext"
    }
   },
   "outputs": [],
   "source": [
    "import numpy as np\n",
    "import matplotlib.pyplot as plt\n",
    "from sklearn.decomposition import PCA\n",
    "\n",
    "#load the preprocessed dataset\n",
    "data = np.load('monkey_prefrontal_data.npy')  #shape: (n_trials, n_neurons)\n",
    "labels = np.load('monkey_cue_labels.npy')     #categorical labels: cue location, etc.\n",
    "\n",
    "print(f\"Data shape: {data.shape}\")"
   ]
  },
  {
   "cell_type": "markdown",
   "metadata": {},
   "source": []
  },
  {
   "cell_type": "markdown",
   "metadata": {},
   "source": [
    "## Applying PCA\n",
    "We will reduce the data dimensionality by projecting it onto the first two principal components. This will allow us to visualize the trials in a two-dimensional space."
   ]
  },
  {
   "cell_type": "code",
   "execution_count": null,
   "metadata": {
    "vscode": {
     "languageId": "plaintext"
    }
   },
   "outputs": [],
   "source": [
    "#apply PCA -  this is the only code you need to do all the steps of PCA in once! Implementiation is really easy, but make sure you carefully think about why you apply, in terms of your data and research objectives, and what nr of components to choose!\n",
    "pca = PCA(n_components=2)\n",
    "data_pca = pca.fit_transform(data)\n",
    "\n",
    "#plot\n",
    "plt.figure(figsize=(8, 6))\n",
    "scatter = plt.scatter(data_pca[:, 0], data_pca[:, 1], c=labels, cmap='tab10', alpha=0.8)\n",
    "plt.xlabel('PC 1')\n",
    "plt.ylabel('PC 2')\n",
    "plt.title('Neural data projected onto first two principal components')\n",
    "plt.colorbar(scatter, label='Cue condition')\n",
    "plt.grid(True)\n",
    "plt.show()"
   ]
  },
  {
   "cell_type": "markdown",
   "metadata": {},
   "source": [
    "What does this plot show? Try playing around witrh the number of components. What does it do, why?"
   ]
  }
 ],
 "metadata": {
  "language_info": {
   "name": "python"
  }
 },
 "nbformat": 4,
 "nbformat_minor": 2
}
