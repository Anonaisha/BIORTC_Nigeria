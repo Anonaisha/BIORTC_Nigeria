{
 "cells": [
  {
   "cell_type": "markdown",
   "metadata": {},
   "source": [
    "# Linear models and Regression\n",
    "\n",
    "This worksheet will guide you to using regressionmodels. \n",
    "\n",
    "When you have classes of data (example cats and dogs...) you can classify these using classifiers. But what if you are trying to predict a value on a scale... For example you might want to predict how much a house costs based on its size. You cannot predict between a class...\n",
    "\n",
    "This tutorial will guide you through \n",
    "- downloading an open dataset\n",
    "- setting up various regression models\n",
    "- tuning hyperparameters to get the best outcome\n",
    "\n",
    "You will need to make sure you have installed the libraries of \n",
    "- opendatasets\n",
    "- sklearn"
   ]
  },
  {
   "cell_type": "code",
   "execution_count": 1,
   "metadata": {},
   "outputs": [
    {
     "name": "stdout",
     "output_type": "stream",
     "text": [
      "Collecting kagglehub\n",
      "  Downloading kagglehub-0.3.12-py3-none-any.whl (67 kB)\n",
      "     -------------------------------------- 68.0/68.0 kB 185.1 kB/s eta 0:00:00\n",
      "Requirement already satisfied: requests in c:\\users\\dexte\\anaconda3\\lib\\site-packages (from kagglehub) (2.28.1)\n",
      "Requirement already satisfied: packaging in c:\\users\\dexte\\anaconda3\\lib\\site-packages (from kagglehub) (21.3)\n",
      "Requirement already satisfied: pyyaml in c:\\users\\dexte\\anaconda3\\lib\\site-packages (from kagglehub) (6.0)\n",
      "Requirement already satisfied: tqdm in c:\\users\\dexte\\anaconda3\\lib\\site-packages (from kagglehub) (4.64.1)\n",
      "Requirement already satisfied: pyparsing!=3.0.5,>=2.0.2 in c:\\users\\dexte\\anaconda3\\lib\\site-packages (from packaging->kagglehub) (3.0.9)\n",
      "Requirement already satisfied: idna<4,>=2.5 in c:\\users\\dexte\\anaconda3\\lib\\site-packages (from requests->kagglehub) (3.3)\n",
      "Requirement already satisfied: urllib3<1.27,>=1.21.1 in c:\\users\\dexte\\anaconda3\\lib\\site-packages (from requests->kagglehub) (1.26.11)\n",
      "Requirement already satisfied: charset-normalizer<3,>=2 in c:\\users\\dexte\\anaconda3\\lib\\site-packages (from requests->kagglehub) (2.0.4)\n",
      "Requirement already satisfied: certifi>=2017.4.17 in c:\\users\\dexte\\anaconda3\\lib\\site-packages (from requests->kagglehub) (2022.9.14)\n",
      "Requirement already satisfied: colorama in c:\\users\\dexte\\anaconda3\\lib\\site-packages (from tqdm->kagglehub) (0.4.5)\n",
      "Installing collected packages: kagglehub\n",
      "Successfully installed kagglehub-0.3.12\n",
      "Requirement already satisfied: scikit-learn in c:\\users\\dexte\\anaconda3\\lib\\site-packages (1.6.1)\n",
      "Requirement already satisfied: scipy>=1.6.0 in c:\\users\\dexte\\anaconda3\\lib\\site-packages (from scikit-learn) (1.9.1)\n",
      "Requirement already satisfied: threadpoolctl>=3.1.0 in c:\\users\\dexte\\anaconda3\\lib\\site-packages (from scikit-learn) (3.6.0)\n",
      "Requirement already satisfied: joblib>=1.2.0 in c:\\users\\dexte\\anaconda3\\lib\\site-packages (from scikit-learn) (1.5.1)\n",
      "Requirement already satisfied: numpy>=1.19.5 in c:\\users\\dexte\\anaconda3\\lib\\site-packages (from scikit-learn) (1.24.4)\n"
     ]
    }
   ],
   "source": [
    "!pip install kagglehub\n",
    "!pip install -U scikit-learn"
   ]
  },
  {
   "cell_type": "code",
   "execution_count": 2,
   "metadata": {},
   "outputs": [],
   "source": [
    "import numpy as np #library for using large arrays in python\n",
    "import pandas as pd #library for playing with datasets\n",
    "import kagglehub\n",
    "\n",
    "############# regression libraries\n",
    "\n"
   ]
  },
  {
   "cell_type": "markdown",
   "metadata": {},
   "source": [
    "## importing a dataset\n",
    "Firstly take a look at Kaggle https://www.kaggle.com/ which is a great platform for people posting datasets. Have a look round, for now we wll be using a specific dataset but later on you should download datasets that interests you.\n",
    "\n",
    "Before we can install a dataset, we have to make an account, and use this account to sign in."
   ]
  },
  {
   "cell_type": "code",
   "execution_count": null,
   "metadata": {},
   "outputs": [
    {
     "name": "stdout",
     "output_type": "stream",
     "text": [
      "Downloading from https://www.kaggle.com/api/v1/datasets/download/shree1992/housedata?dataset_version_number=2...\n"
     ]
    },
    {
     "name": "stderr",
     "output_type": "stream",
     "text": [
      "100%|██████████| 432k/432k [00:00<00:00, 562kB/s]"
     ]
    },
    {
     "name": "stdout",
     "output_type": "stream",
     "text": [
      "Extracting files...\n",
      "Path to dataset files: C:\\Users\\dexte\\.cache\\kagglehub\\datasets\\shree1992\\housedata\\versions\\2\n"
     ]
    },
    {
     "name": "stderr",
     "output_type": "stream",
     "text": [
      "\n"
     ]
    }
   ],
   "source": [
    "#to import the data we will use the open datasets library #we place the link copied from Kaggle into the parameter of the download function\n",
    "path = kagglehub.dataset_download(\"shree1992/housedata\")\n",
    "\n",
    "# Download latest version\n",
    "print(\"Path to dataset files:\", path)"
   ]
  },
  {
   "cell_type": "markdown",
   "metadata": {},
   "source": [
    "## playing with our data\n",
    "\n",
    "Great now we have downloaded a dataset... but can we just plug this into a model? No! We have to look at our data, how it is formatted and how this looks. The data is downloaded in a folder in csv format. Try to think back to how we opened up a dataset from yesterdays lab."
   ]
  },
  {
   "cell_type": "code",
   "execution_count": null,
   "metadata": {},
   "outputs": [],
   "source": [
    "# TASKS\n",
    "\n",
    "# open the dataset from the csv, you already have the path\n",
    "\n",
    "# visualise this dataset "
   ]
  },
  {
   "cell_type": "markdown",
   "metadata": {},
   "source": [
    "## Modelling the data\n",
    "\n",
    "Before we get into anything fancy, lets train some regression models. Regression models take data in a linear format. By this I mean e need all the data to be represetned by a single vector. Lets say we only care about the bedrooms and bathrooms, and nothing else matters. We would then have [bedroom_no, bathroom_no] and a label [price of house]. The input data is the number of bedrooms andnumber of bathrooms... and our label data is the cost of that house. \n",
    "\n",
    "To extract this data is quite simple, we just grab the columns from the dataset that we want, convert to numpy and put them together (using the concatenate function).\n",
    "\n",
    "We have shown you how to do it for bedrooms and bathrooms. Play around and try add some other useful metrics into the input data. By the end we want to have a matrix n x m, where n is the number of samples, and m is the number of features we want to take input from. So for the above example m would be 2, bedrooms and bathrooms. "
   ]
  },
  {
   "cell_type": "code",
   "execution_count": null,
   "metadata": {},
   "outputs": [],
   "source": []
  }
 ],
 "metadata": {
  "kernelspec": {
   "display_name": "base",
   "language": "python",
   "name": "python3"
  },
  "language_info": {
   "codemirror_mode": {
    "name": "ipython",
    "version": 3
   },
   "file_extension": ".py",
   "mimetype": "text/x-python",
   "name": "python",
   "nbconvert_exporter": "python",
   "pygments_lexer": "ipython3",
   "version": "3.9.13"
  }
 },
 "nbformat": 4,
 "nbformat_minor": 2
}
