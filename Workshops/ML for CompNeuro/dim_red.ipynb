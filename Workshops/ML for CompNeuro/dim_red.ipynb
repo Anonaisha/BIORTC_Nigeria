{
 "cells": [
  {
   "cell_type": "markdown",
   "metadata": {},
   "source": [
    "# Dimentionality Reduction\n",
    "\n",
    "Points to cover:\n",
    "- PCA(basic intuition, application on neuro data) + FA\n",
    "- t-SNE(just application)\n",
    "- UMap\n",
    "- VAE"
   ]
  }
 ],
 "metadata": {
  "language_info": {
   "name": "python"
  }
 },
 "nbformat": 4,
 "nbformat_minor": 2
}
