{
 "cells": [
  {
   "cell_type": "markdown",
   "id": "8174a857",
   "metadata": {},
   "source": [
    "# Welcome to the calcium imaging data analysis workshop\n",
    "\n",
    "As you remember, in the  <a href=\"..\\..\\BOOTCAMP\\Level 3 - Data Science\\3c_datasets.ipynb\">Bootcamp</a> we learned how to plot and explore the 2p microscope recording of one neuron. \n",
    "\n",
    "[Note: If you did not complete bootcamp 3c, do that before starting this workshop.]\n",
    "\n",
    "Now it's time to take that knowledge to the next level, and learn how to make sense of this data! \n",
    "\n",
    "We will be plotting the mean responses, parsed by trial type"
   ]
  },
  {
   "cell_type": "code",
   "execution_count": 2,
   "id": "8f8b3771",
   "metadata": {},
   "outputs": [],
   "source": [
    "#import and load the right library\n",
    "import numpy as np\n",
    "import matplotlib.pyplot as plt\n",
    "import scipy.io "
   ]
  },
  {
   "cell_type": "code",
   "execution_count": null,
   "id": "010ef84e",
   "metadata": {},
   "outputs": [
    {
     "name": "stdout",
     "output_type": "stream",
     "text": [
      "dict_keys(['__header__', '__version__', '__globals__', 'licks', 'reward', 'punish', 'meanF', 'dff', 'cues', 'go', 'nogo'])\n"
     ]
    }
   ],
   "source": [
    "# load the first neuron\n",
    "\n",
    "mat = scipy.io.loadmat(\"calcium_traces_data_non_compressed/0406_20180620_8_timeseries.mat\")\n",
    "\n",
    "#see variables in the file\n",
    "print(mat.keys())"
   ]
  },
  {
   "cell_type": "markdown",
   "id": "9c98e0fd",
   "metadata": {},
   "source": [
    "In this case, we are interested in `cues`."
   ]
  },
  {
   "cell_type": "code",
   "execution_count": 9,
   "id": "aa8bcec6",
   "metadata": {},
   "outputs": [
    {
     "name": "stdout",
     "output_type": "stream",
     "text": [
      "<class 'numpy.ndarray'> (1, 9635)\n"
     ]
    }
   ],
   "source": [
    "# let's check again what 'cues' looks like\n",
    "cues = mat['cues']\n",
    "print(type(cues), cues.shape)\n"
   ]
  },
  {
   "cell_type": "code",
   "execution_count": 10,
   "id": "da6d395e",
   "metadata": {},
   "outputs": [
    {
     "name": "stdout",
     "output_type": "stream",
     "text": [
      "[0 0 1 ... 0 0 0]\n"
     ]
    }
   ],
   "source": [
    "#flatten to a 1D array \n",
    "cues_signal = cues.flatten()\n",
    "\n",
    "print(cues_signal)"
   ]
  },
  {
   "cell_type": "code",
   "execution_count": 24,
   "id": "df1da5cf",
   "metadata": {},
   "outputs": [
    {
     "name": "stdout",
     "output_type": "stream",
     "text": [
      "[2, 43, 84, 125, 166, 207, 248, 289, 330, 371, 412, 453, 494, 535, 576, 617, 658, 699, 740, 781, 822, 863, 904, 945, 986, 1027, 1068, 1109, 1150, 1191, 1232, 1273, 1314, 1355, 1396, 1437, 1478, 1519, 1560, 1601, 1642, 1683, 1724, 1765, 1806, 1847, 1888, 1929, 1970, 2011, 2052, 2093, 2134, 2175, 2216, 2257, 2298, 2339, 2380, 2421, 2462, 2503, 2544, 2585, 2626, 2667, 2708, 2749, 2790, 2831, 2872, 2913, 2954, 2995, 3036, 3077, 3118, 3159, 3200, 3241, 3282, 3323, 3364, 3405, 3446, 3487, 3528, 3569, 3610, 3651, 3692, 3733, 3774, 3815, 3856, 3897, 3938, 3979, 4020, 4061, 4102, 4143, 4184, 4225, 4266, 4307, 4348, 4389, 4430, 4471, 4512, 4553, 4594, 4635, 4676, 4717, 4758, 4799, 4840, 4881, 4922, 4963, 5004, 5045, 5086, 5127, 5168, 5209, 5250, 5291, 5332, 5373, 5414, 5455, 5496, 5537, 5578, 5619, 5660, 5701, 5742, 5783, 5824, 5865, 5906, 5947, 5988, 6029, 6070, 6111, 6152, 6193, 6234, 6275, 6316, 6357, 6398, 6439, 6480, 6521, 6562, 6603, 6644, 6685, 6726, 6767, 6808, 6849, 6890, 6931, 6972, 7013, 7054, 7095, 7136, 7177, 7218, 7259, 7300, 7341, 7382, 7423, 7464, 7505, 7546, 7587, 7628, 7669, 7710, 7751, 7792, 7833, 7874, 7915, 7956, 7997, 8038, 8079, 8120, 8161, 8202, 8243, 8284, 8325, 8366, 8407, 8448, 8489, 8530, 8571, 8612, 8653, 8694, 8735, 8776, 8817, 8858, 8899, 8940, 8981, 9022, 9063, 9104, 9145, 9186, 9227, 9268, 9309, 9350, 9391, 9432, 9473, 9514, 9555, 9596]\n"
     ]
    }
   ],
   "source": [
    "# Parse the stimulus times and trial structure\n",
    "\n",
    "#step 1: extract the time points where the cue == 1, and store them as lists\n",
    "stimtimes = list(np.where(cues_signal > 0)[0])\n",
    "\n",
    "print(stimtimes)"
   ]
  },
  {
   "cell_type": "code",
   "execution_count": null,
   "id": "7296b002",
   "metadata": {},
   "outputs": [],
   "source": []
  },
  {
   "cell_type": "code",
   "execution_count": null,
   "id": "c3a88c54",
   "metadata": {},
   "outputs": [
    {
     "name": "stdout",
     "output_type": "stream",
     "text": [
      "41\n"
     ]
    }
   ],
   "source": [
    "# get the number of trials and the duration of the stimulus\n",
    "numtrials = len(stimtimes)\n",
    "\n",
    "# get the duration of the trial.  The trial duration is the time between one stimulus and the other. \n",
    "trialduration = stimtimes[1] - stimtimes[0]  # assumes constant duration\n",
    "\n",
    "baseline = 2\n",
    "post_stim_period = trialduration - baseline - 1"
   ]
  }
 ],
 "metadata": {
  "kernelspec": {
   "display_name": "ocv4",
   "language": "python",
   "name": "python3"
  },
  "language_info": {
   "codemirror_mode": {
    "name": "ipython",
    "version": 3
   },
   "file_extension": ".py",
   "mimetype": "text/x-python",
   "name": "python",
   "nbconvert_exporter": "python",
   "pygments_lexer": "ipython3",
   "version": "3.6.13"
  }
 },
 "nbformat": 4,
 "nbformat_minor": 5
}
