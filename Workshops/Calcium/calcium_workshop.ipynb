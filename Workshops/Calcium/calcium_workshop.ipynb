{
 "cells": [
  {
   "cell_type": "markdown",
   "id": "8174a857",
   "metadata": {},
   "source": [
    "# Welcome to the calcium imaging data analysis workshop\n",
    "\n",
    "As you remember, in the  <a href=\"..\\..\\BOOTCAMP\\Level 3 - Data Science\\3c_datasets.ipynb\">Bootcamp</a> we learned how to plot and explore the 2p microscope recording of one neuron. \n",
    "\n",
    "Now it's time to take that knowledge to the next level, and learn how to make sense of this data! "
   ]
  }
 ],
 "metadata": {
  "language_info": {
   "name": "python"
  }
 },
 "nbformat": 4,
 "nbformat_minor": 5
}
