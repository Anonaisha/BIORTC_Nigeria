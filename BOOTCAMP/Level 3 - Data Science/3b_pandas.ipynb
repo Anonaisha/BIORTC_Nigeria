{
 "cells": [
  {
   "cell_type": "markdown",
   "metadata": {
    "id": "taAAvsTUiJLK"
   },
   "source": [
    "# Understanding and inspecting data with Pandas( wrangling and cleaning data)\n",
    "\n",
    "Pandas is a Python library used for working with structured data. Its main purpose is to help you load, manipulate, and clean data efficiently - especially using its core data structure, the DataFrame, which can hold different types of data and gives you powerful tools for inspecting, filtering, and transforming all sorts of datasets.\n",
    "\n",
    "In this lab, we are going to explore basic _pandas_ concepts, and wrangle and clean a given dataset. We will be looking at very simple datasets, stored as \"csv\" files in the folder \"datasets\", but you will learn methods that you will need to be able to process and load your own neuroscience datasets for the projects.\n",
    "\n",
    " Since you are reading this notebook, make sure the following files are in the folder \"datasets/...\":\n",
    "1. automobile_data.csv\n",
    "2. dirty_data_to_merge.csv\n",
    "3. planets.csv"
   ]
  },
  {
   "cell_type": "markdown",
   "metadata": {
    "id": "zwg8D6LziJLM"
   },
   "source": [
    "## Exercise 1 - _pandas_\n",
    "Before getting started with the exercises, I would recommend going through the (tutorial)[https://pandas.pydata.org/docs/getting_started/intro_tutorials/index.html] on the _pandas_ website. It gives a good intro to the library and to the DataFrame object-the format used to store your data-which you can use to inspect, handle, and work with all kinds of structured data.\n",
    "\n",
    "If there are any  something you are not familiar with, make sure to consult the _pandas_ (documentation)[https://pandas.pydata.org/docs/reference/index.html]. I have left some hints when this is the case.\n",
    "\n",
    "In this exercise, we are going to do some basic _pandas_ manipulation. You will need automobile_data.csv for this exercise."
   ]
  },
  {
   "cell_type": "markdown",
   "metadata": {
    "id": "1FjZp3dNiJLN"
   },
   "source": [
    "### 1a) Read in automobile_data.csv"
   ]
  },
  {
   "cell_type": "code",
   "execution_count": null,
   "metadata": {
    "id": "GG4Zv1qfiJLN"
   },
   "outputs": [],
   "source": []
  },
  {
   "cell_type": "markdown",
   "metadata": {
    "id": "M14Br7QGiJLN"
   },
   "source": [
    "### 1b) Print the first 5 and last 5 rows"
   ]
  },
  {
   "cell_type": "code",
   "execution_count": null,
   "metadata": {
    "id": "K6u5rQDbiJLN"
   },
   "outputs": [],
   "source": []
  },
  {
   "cell_type": "markdown",
   "metadata": {
    "id": "70eWRiXKiJLN"
   },
   "source": [
    "### 1c) Remove all the rows with NaN values and save the new dataset\n",
    "_[hint](https://pandas.pydata.org/docs/reference/api/pandas.DataFrame.to_csv.html#pandas.DataFrame.to_csv)_"
   ]
  },
  {
   "cell_type": "code",
   "execution_count": null,
   "metadata": {
    "id": "35yU3FgtiJLN"
   },
   "outputs": [],
   "source": []
  },
  {
   "cell_type": "markdown",
   "metadata": {
    "id": "ucsTIhlFiJLO"
   },
   "source": [
    "### 1d) Find the company name with the most expensive car\n",
    "_[hint](https://pandas.pydata.org/pandas-docs/version/1.5/reference/api/pandas.Series.max.html)_"
   ]
  },
  {
   "cell_type": "code",
   "execution_count": null,
   "metadata": {
    "id": "xLmLd7xxiJLO"
   },
   "outputs": [],
   "source": []
  },
  {
   "cell_type": "markdown",
   "metadata": {
    "id": "GHxTUWP2iJLO"
   },
   "source": [
    "### 1e) Display all the cars that are made by Toyota"
   ]
  },
  {
   "cell_type": "code",
   "execution_count": null,
   "metadata": {
    "id": "kZJSznmkiJLO"
   },
   "outputs": [],
   "source": []
  },
  {
   "cell_type": "markdown",
   "metadata": {
    "id": "aqzAEO6hiJLO"
   },
   "source": [
    "### 1f) Count the total number of cars per company\n",
    "_hint: this is the number of rows for each company, you can do this with one command_"
   ]
  },
  {
   "cell_type": "code",
   "execution_count": null,
   "metadata": {
    "id": "9Np2-8rliJLO"
   },
   "outputs": [],
   "source": []
  },
  {
   "cell_type": "markdown",
   "metadata": {
    "id": "Pr3TxnHXiJLO"
   },
   "source": [
    "### 1g) Find each company's highest priced car (advanced)\n",
    "_[hint](https://pandas.pydata.org/docs/reference/api/pandas.DataFrame.groupby.html#pandas.DataFrame.groupby)_"
   ]
  },
  {
   "cell_type": "code",
   "execution_count": null,
   "metadata": {
    "id": "R7-gzbO6iJLO"
   },
   "outputs": [],
   "source": []
  },
  {
   "cell_type": "markdown",
   "metadata": {
    "id": "1eZplZJZiJLO"
   },
   "source": [
    "### 1h) Sort all cars by price\n",
    "_[hint](https://pandas.pydata.org/docs/reference/api/pandas.DataFrame.sort_values.html)_"
   ]
  },
  {
   "cell_type": "code",
   "execution_count": null,
   "metadata": {
    "id": "qcENbC1NiJLO"
   },
   "outputs": [],
   "source": []
  },
  {
   "cell_type": "markdown",
   "metadata": {
    "id": "PWAWP9OUiJLO"
   },
   "source": [
    "### 1i) Make a new column which is price per average mileage"
   ]
  },
  {
   "cell_type": "code",
   "execution_count": null,
   "metadata": {
    "id": "v0J-qDUNiJLO"
   },
   "outputs": [],
   "source": []
  },
  {
   "cell_type": "markdown",
   "metadata": {
    "id": "enD_mg96iJLO"
   },
   "source": [
    "### 1j) Find the 5 cars with the lowest price per mile"
   ]
  },
  {
   "cell_type": "code",
   "execution_count": null,
   "metadata": {
    "id": "eBbiRn3fiJLO"
   },
   "outputs": [],
   "source": []
  },
  {
   "cell_type": "markdown",
   "metadata": {
    "id": "ZY6RaX_niJLO"
   },
   "source": [
    "### 11k) Find the cars with the highest and lowest horse power"
   ]
  },
  {
   "cell_type": "code",
   "execution_count": null,
   "metadata": {
    "id": "DRmR9ivniJLP"
   },
   "outputs": [],
   "source": []
  },
  {
   "cell_type": "markdown",
   "metadata": {
    "id": "h5BrDeA9iJLP"
   },
   "source": [
    "## Exercise 2 - wrangling and cleaning data\n",
    "In real-world scenarios, data is often messy - full of noise, inconsistencies, and missing values. It is rarely clean and usually requires some preprocessing before it can be properly analyzed or used.\n",
    "\n",
    "In this exercise, we will look at how to inspect data, which is simple and straightforward using _pandas_, and then move on to some basic wrangling and cleaning steps. You will need \"datasets/dirty_data_to_merge.csv\" for this exercise."
   ]
  },
  {
   "cell_type": "code",
   "execution_count": null,
   "metadata": {
    "id": "hGWqEenniJLP"
   },
   "outputs": [],
   "source": [
    "# load your data as a DataFrame, and inspect some of the statistics like we did above - refer to the pandas tutorial if needed"
   ]
  },
  {
   "cell_type": "markdown",
   "metadata": {
    "id": "8Lte3Ah9iJLP"
   },
   "source": [
    "With a quick inspection, we can see that this data set has erroneous data in it. It is our job to wrangle and clean it before we can merge it with the other dataset."
   ]
  },
  {
   "cell_type": "markdown",
   "metadata": {
    "id": "04-L_wwPiJLP"
   },
   "source": [
    "### 2a) Column Names\n",
    "Rename the column names so that they satisfy some standard _python_ conventions (i.e., begin with a lowercase, use snake_case, the name is only one or two words which are descriptive)"
   ]
  },
  {
   "cell_type": "code",
   "execution_count": null,
   "metadata": {
    "id": "RVBfjb4riJLP"
   },
   "outputs": [],
   "source": []
  },
  {
   "cell_type": "markdown",
   "metadata": {
    "id": "s6R7gX4giJLP"
   },
   "source": [
    "### 2b) NaNs\n",
    "The data collector said if there any NaN rows, to remove them."
   ]
  },
  {
   "cell_type": "code",
   "execution_count": null,
   "metadata": {
    "id": "hlZc1w_BiJLP"
   },
   "outputs": [],
   "source": []
  },
  {
   "cell_type": "markdown",
   "metadata": {
    "id": "FMj46lMNiJLP"
   },
   "source": [
    "We have calculated that there are  NaN entries in the  column. These correspond to Ids = [] (which are rows = []). This leaves us with 30 - = rows."
   ]
  },
  {
   "cell_type": "markdown",
   "metadata": {
    "id": "E1hBiLhgiJLP"
   },
   "source": [
    "### 2c) Duplicates\n",
    "The data collector said if there are any duplicates, then to remove them apart from the first entry."
   ]
  },
  {
   "cell_type": "code",
   "execution_count": null,
   "metadata": {
    "id": "ZXI26SEgiJLP"
   },
   "outputs": [],
   "source": []
  },
  {
   "cell_type": "markdown",
   "metadata": {
    "id": "daP3NzNKiJLP"
   },
   "source": [
    "### 2d) Datetime\n",
    "We should change the timestamp column into datetime type, that way it matches the timestamp column when we merge it to the other dataset.\n",
    "\n",
    "If you know the format, then it is best to add it. Lists of format specifications can be found here: [python datetime formats](https://docs.python.org/3/library/datetime.html#strftime-and-strptime-format-codes)."
   ]
  },
  {
   "cell_type": "code",
   "execution_count": null,
   "metadata": {
    "id": "EWpcoazziJLP"
   },
   "outputs": [],
   "source": []
  },
  {
   "cell_type": "markdown",
   "metadata": {
    "id": "9xorhhTliJLP"
   },
   "source": [
    "### 2e) Extract new columns\n",
    "The data collector has recently realised that they wanted to know whether the participant's favourite music artist/band is either a singer or a band. In the data, the bands are: The Beatles, Linkin Park. In the data, the artists are: Beyonce, Michael Jackson, Prince, Ed Sheeran, Adele, John Denver. Create a new column to reflect the data collector's want."
   ]
  },
  {
   "cell_type": "code",
   "execution_count": null,
   "metadata": {
    "id": "fi1jVD4xiJLP"
   },
   "outputs": [],
   "source": []
  },
  {
   "cell_type": "markdown",
   "metadata": {
    "id": "tX8dCyZviJLP"
   },
   "source": [
    "### 2f) Robot\n",
    "The data collector let us know that they put in a question to catch out bots answering the form. They put in a question that asked participants if they were a robot, and put True as the first entry (bots often just pick the first entry in the dropdown). They want us to remove all the rows where the robot question was answered True and then remove the Robot column."
   ]
  },
  {
   "cell_type": "code",
   "execution_count": null,
   "metadata": {
    "id": "EkSV5mwUiJLT"
   },
   "outputs": [],
   "source": []
  },
  {
   "cell_type": "markdown",
   "metadata": {
    "id": "AReTlF4SiJLT"
   },
   "source": [
    "We have calculated that there are entries with True in the robot column. These correspond to Ids = [] (which are rows = [] in the current dataframe). This leaves us with  -  = rows."
   ]
  },
  {
   "cell_type": "markdown",
   "metadata": {
    "id": "-qVrQPbliJLT"
   },
   "source": [
    "### 2g) Erroneous data\n",
    "After some careful inspection, both the columns tv_series and artist_name are resonable. However, the age column is not."
   ]
  },
  {
   "cell_type": "code",
   "execution_count": null,
   "metadata": {
    "id": "tYMJ7MBUiJLT"
   },
   "outputs": [],
   "source": []
  },
  {
   "cell_type": "markdown",
   "metadata": {
    "id": "c9-JY9NTiJLT"
   },
   "source": [
    "There are four changes we need to make. What are they?\n"
   ]
  },
  {
   "cell_type": "markdown",
   "metadata": {},
   "source": [
    "1.\n",
    "\n",
    "2.\n",
    "\n",
    "3.\n",
    "\n",
    "4."
   ]
  },
  {
   "cell_type": "markdown",
   "metadata": {
    "id": "6wRWmn4RiJLT"
   },
   "source": [
    "BONUS:\n",
    "\n",
    "Write a function update_age, that takes a String element with some description of the age as an input(e.g. \"20 Years\"), and outputs only the relevant number as an Integer. Test it with the following list\n",
    "```python\n",
    "tests = [\"25\", \"20\", \"2 y/o\", \"5  y/o\", \"30 years\", \"40 years old\"]\n",
    "```\n",
    "The function should return\n",
    "```python\n",
    "results = [25, 20, 2, 5, 30, 40]\n",
    "```\n",
    "Once you are happy with the results, apply it to the dataframe."
   ]
  },
  {
   "cell_type": "code",
   "execution_count": null,
   "metadata": {
    "id": "yaXpE86iiJLT"
   },
   "outputs": [],
   "source": [
    "def update_age(val):\n",
    "    return\n",
    "\n",
    "tests = [\"25\", \"20\", \"2 y/o\", \"5  y/o\", \"30 years\", \"40 years old\"]\n",
    "print([update_age(test) for test in tests])"
   ]
  },
  {
   "cell_type": "code",
   "execution_count": null,
   "metadata": {
    "id": "zDxp9DZkiJLT"
   },
   "outputs": [],
   "source": [
    "# now, apply this to the dataframe"
   ]
  },
  {
   "cell_type": "markdown",
   "metadata": {},
   "source": [
    "## Bonus: planets.csv\n",
    "As a bonus exercise, try importing, inspecting, and preprocessing the dataset \"planets.csv\" in Pandas as a Dataframe. Which preprocessing steps did you choose and why?"
   ]
  },
  {
   "cell_type": "code",
   "execution_count": null,
   "metadata": {},
   "outputs": [],
   "source": [
    "# add your code here"
   ]
  }
 ],
 "metadata": {
  "colab": {
   "provenance": []
  },
  "kernelspec": {
   "display_name": "Python 3",
   "language": "python",
   "name": "python3"
  },
  "language_info": {
   "codemirror_mode": {
    "name": "ipython",
    "version": 3
   },
   "file_extension": ".py",
   "mimetype": "text/x-python",
   "name": "python",
   "nbconvert_exporter": "python",
   "pygments_lexer": "ipython3",
   "version": "3.10.12"
  }
 },
 "nbformat": 4,
 "nbformat_minor": 0
}
