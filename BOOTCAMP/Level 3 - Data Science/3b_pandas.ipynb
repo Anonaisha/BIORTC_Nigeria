{
 "cells": [
  {
   "cell_type": "markdown",
   "metadata": {},
   "source": [
    "# Understanding and inspecting datasets with Pandas\n",
    "- main points - pandas, dataframe, inspecting data, simple statistics -> potentially some data preprocessing??\n",
    "- what are different dataformats? how can we inspect and analyse them, to import and preprocess properly?"
   ]
  }
 ],
 "metadata": {
  "language_info": {
   "name": "python"
  }
 },
 "nbformat": 4,
 "nbformat_minor": 2
}
