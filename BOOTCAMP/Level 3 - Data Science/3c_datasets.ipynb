{
 "cells": [
  {
   "cell_type": "markdown",
   "metadata": {},
   "source": [
    "# Load your own datasets\n",
    "\n",
    "- look into spreadsheeet - what is importnat to project, what types of examples should we give? any preprocessing?"
   ]
  }
 ],
 "metadata": {
  "language_info": {
   "name": "python"
  }
 },
 "nbformat": 4,
 "nbformat_minor": 2
}
