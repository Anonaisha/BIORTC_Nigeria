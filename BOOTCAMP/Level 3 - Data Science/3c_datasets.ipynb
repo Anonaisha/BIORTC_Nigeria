{
 "cells": [
  {
   "cell_type": "markdown",
   "metadata": {},
   "source": [
    "# Visualise your datasets with _Matplotlib_\n",
    "\n",
    "This lab we will focus on using data visualisation techniques to analyse and understand further your loaded datasets. Refer to these (matplotlib tutorials)[https://matplotlib.org/stable/tutorials/index.html] and the Matplotlib documentation for more help.\n",
    "\n",
    "We will be working with a calcium dataset,#add info about dataset"
   ]
  },
  {
   "cell_type": "code",
   "execution_count": null,
   "metadata": {},
   "outputs": [],
   "source": [
    "!pip install matplotlib"
   ]
  },
  {
   "cell_type": "markdown",
   "metadata": {},
   "source": [
    "In the previous worksheets we learned how to load a dataset. Time to explore an actual 2p microscope output. "
   ]
  },
  {
   "cell_type": "code",
   "execution_count": null,
   "metadata": {},
   "outputs": [],
   "source": [
    "#import and load the right library\n",
    "import numpy as np\n",
    "import matplotlib as plt"
   ]
  },
  {
   "cell_type": "code",
   "execution_count": null,
   "metadata": {},
   "outputs": [],
   "source": [
    "# calcium dataset -> load\n",
    "data = np.load(\"C:/Users/aleja/Downloads/Figures4_5_analysis/python code submitted/processed_data/S1_all_neurons.npy\", allow_pickle=True)\n",
    "\n",
    "\n",
    "\n",
    "# load in and inspect data, some preprocessing, statistics/"
   ]
  },
  {
   "cell_type": "code",
   "execution_count": null,
   "metadata": {},
   "outputs": [],
   "source": [
    "#inspect the structure of the loaded dataset \n",
    "type(data)"
   ]
  },
  {
   "cell_type": "code",
   "execution_count": null,
   "metadata": {},
   "outputs": [],
   "source": [
    "# visualise the data\n",
    "# Plot calcium trace for the first neuron\n",
    "plt.plot(data[0])\n",
    "plt.title(\"Neuron 1 Calcium Trace\")\n",
    "plt.xlabel(\"Time (frames)\")\n",
    "plt.ylabel(\"Fluorescence\")\n",
    "plt.show()"
   ]
  },
  {
   "cell_type": "code",
   "execution_count": null,
   "metadata": {},
   "outputs": [],
   "source": [
    "#understand patterns in he data by doing some simple statistics \n",
    "mean_trace = np.mean(data, axis=1)   # Mean for each neuron\n",
    "std_trace = np.std(data, axis=1) # standard deviation for each neuron\n",
    "\n",
    "print(\"Mean fluorescence across time (first 5 neurons):\", mean_trace[:5])\n",
    "print(\"Standard deviation (first 5 neurons):\", std_trace[:5])"
   ]
  },
  {
   "cell_type": "code",
   "execution_count": null,
   "metadata": {},
   "outputs": [],
   "source": [
    "# can do some preprocesing by doing z-score normalisation\n",
    "zscored = (data - np.mean(data, axis=1, keepdims=True)) / np.std(data, axis=1, keepdims=True)\n",
    "\n",
    "#and Baseline subtraction (ΔF/F)\n",
    "baseline = np.percentile(data, 20, axis=1, keepdims=True)\n",
    "dff = (data - baseline) / baseline\n"
   ]
  }
 ],
 "metadata": {
  "kernelspec": {
   "display_name": "ocv4",
   "language": "python",
   "name": "python3"
  },
  "language_info": {
   "codemirror_mode": {
    "name": "ipython",
    "version": 3
   },
   "file_extension": ".py",
   "mimetype": "text/x-python",
   "name": "python",
   "nbconvert_exporter": "python",
   "pygments_lexer": "ipython3",
   "version": "3.6.13"
  }
 },
 "nbformat": 4,
 "nbformat_minor": 2
}
