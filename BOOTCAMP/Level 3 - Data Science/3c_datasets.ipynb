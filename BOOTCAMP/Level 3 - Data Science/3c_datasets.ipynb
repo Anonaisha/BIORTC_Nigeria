{
 "cells": [
  {
   "cell_type": "markdown",
   "metadata": {},
   "source": [
    "# Visualise your datasets with _Matplotlib_\n",
    "\n",
    "This lab we will focus on using data visualisation techniques to analyse and understand further your loaded datasets. Refer to these (matplotlib tutorials)[https://matplotlib.org/stable/tutorials/index.html] and the Matplotlib documentation for more help.\n",
    "\n",
    "We will be working with a calcium dataset"
   ]
  },
  {
   "cell_type": "code",
   "execution_count": null,
   "metadata": {},
   "outputs": [],
   "source": [
    "!pip install matplotlib\n",
    "!pip install plotly"
   ]
  },
  {
   "cell_type": "code",
   "execution_count": null,
   "metadata": {},
   "outputs": [],
   "source": [
    "!pip install jupyter anywidget"
   ]
  },
  {
   "cell_type": "markdown",
   "metadata": {},
   "source": [
    "In the previous worksheets we learned how to load a dataset. Time to explore an actual 2p microscope output. Yes. You are about to explore a calcium imaging dataset for one neuron. "
   ]
  },
  {
   "cell_type": "code",
   "execution_count": null,
   "metadata": {},
   "outputs": [],
   "source": [
    "#import and load the right library\n",
    "import numpy as np\n",
    "import matplotlib.pyplot as plt\n",
    "import scipy.io "
   ]
  },
  {
   "cell_type": "markdown",
   "metadata": {},
   "source": [
    "This dataset is in a different format. It is not a .csv nor a .json, so we will need to use a different library to open this .mat file. \n"
   ]
  },
  {
   "cell_type": "code",
   "execution_count": null,
   "metadata": {},
   "outputs": [],
   "source": [
    "# calcium dataset -> load\n",
    "mat = scipy.io.loadmat(\"1140_20190613_9_timeseries.mat\")\n",
    "\n",
    "#see the content of the file\n",
    "print(mat)"
   ]
  },
  {
   "cell_type": "markdown",
   "metadata": {},
   "source": [
    "Let's check what type of data this is"
   ]
  },
  {
   "cell_type": "code",
   "execution_count": null,
   "metadata": {},
   "outputs": [],
   "source": [
    "#inspect the structure of the loaded dataset \n",
    "type(mat)"
   ]
  },
  {
   "cell_type": "markdown",
   "metadata": {},
   "source": [
    "This is a dictionary, let's inspect it in a different way"
   ]
  },
  {
   "cell_type": "code",
   "execution_count": null,
   "metadata": {},
   "outputs": [],
   "source": [
    "# See what variables are in the file\n",
    "print(mat.keys())"
   ]
  },
  {
   "cell_type": "markdown",
   "metadata": {},
   "source": [
    "**variables**\n",
    "- 'licks':  represent at what point the mouse licked\n",
    "-  'reward', 'punish': represent at what point the mouse received a reward or punishment\n",
    "-  'dff': represents the activity of the neuron\n",
    "-  'go', 'nogo': represent the type of cue received"
   ]
  },
  {
   "cell_type": "code",
   "execution_count": null,
   "metadata": {},
   "outputs": [],
   "source": [
    "# let's check what this data looks like\n",
    "ts = mat['dff']\n",
    "print(type(ts), ts.shape)"
   ]
  },
  {
   "cell_type": "markdown",
   "metadata": {},
   "source": [
    "Think about what you learned about numpy and arrays, what could this mean?\n",
    "\n",
    "<class 'numpy.ndarray'> (1, 10373)\n",
    "\n",
    "In this case, it's neurons x time. So 1 neuron, and 10373 time points.\n"
   ]
  },
  {
   "cell_type": "code",
   "execution_count": null,
   "metadata": {},
   "outputs": [],
   "source": [
    "# Let's see this neuron's activity\n",
    "plt.plot(ts[0])\n",
    "plt.title(\"Calcium Trace - Neuron 1\")\n",
    "plt.xlabel(\"Time (frames)\")\n",
    "plt.ylabel(\"Fluorescence (a.u.)\")\n",
    "plt.show()"
   ]
  },
  {
   "cell_type": "markdown",
   "metadata": {},
   "source": [
    "On its own, this doesn't tell us much, let's inspect what other data we have!"
   ]
  },
  {
   "cell_type": "code",
   "execution_count": null,
   "metadata": {},
   "outputs": [],
   "source": [
    "rew = mat['reward']\n",
    "print(type(rew), rew.shape)\n",
    "\n",
    "pun= mat['punish']\n",
    "print(type(pun), pun.shape)"
   ]
  },
  {
   "cell_type": "code",
   "execution_count": null,
   "metadata": {},
   "outputs": [],
   "source": [
    "# let's flatten to 1D arrays \n",
    "reward_signal = rew.flatten()\n",
    "punish_signal = pun.flatten()\n",
    "\n",
    "print(reward_signal)\n",
    "print( punish_signal)"
   ]
  },
  {
   "cell_type": "markdown",
   "metadata": {},
   "source": [
    "This means that each frame (out of 10,373) has:\n",
    "\n",
    "- 1 if a reward or punishment occurred at that timepoint\n",
    "\n",
    "- 0 if not."
   ]
  },
  {
   "cell_type": "code",
   "execution_count": null,
   "metadata": {},
   "outputs": [],
   "source": [
    "#now we extract the time points where the reward and punishment == 1, and store them as lists\n",
    "reward_times = list(np.where(reward_signal == 1)[0])\n",
    "punishment_times = list(np.where(punish_signal == 1)[0])\n",
    "\n"
   ]
  },
  {
   "cell_type": "code",
   "execution_count": null,
   "metadata": {},
   "outputs": [],
   "source": [
    "fig, ax = plt.subplots()\n",
    "ax.plot(ts[0], label='Neuron 1')\n",
    "\n",
    "# Overlay vertical lines at reward/punishment times\n",
    "ax.vlines(reward_times, ymin=min(ts[0]), ymax=max(ts[0]), color='green', linestyle='--', linewidth=1, label='Reward')\n",
    "ax.vlines(punishment_times, ymin=min(ts[0]), ymax=max(ts[0]), color='red', linestyle='--', linewidth=1, label='Punishment')\n",
    "\n",
    "ax.set_title(\"Neuron 1 Calcium Trace with Rewards & Punishments\")\n",
    "ax.set_xlabel(\"Time (frames)\")\n",
    "ax.set_ylabel(\"Fluorescence\")\n",
    "ax.legend()\n",
    "plt.tight_layout()\n",
    "plt.show()"
   ]
  },
  {
   "cell_type": "markdown",
   "metadata": {},
   "source": [
    "This plot is a bit too small, but you can modify the size of the plot by modifying `fig, ax = plt.subplots(figsize=(30, 6)) `\n",
    "\n",
    "Give it a try!"
   ]
  },
  {
   "cell_type": "code",
   "execution_count": null,
   "metadata": {},
   "outputs": [],
   "source": [
    "fig, ax = plt.subplots(figsize = (30,6))\n",
    "ax.plot(ts[0], label='Neuron 1')\n",
    "\n",
    "# Overlay vertical lines at reward/punishment times\n",
    "ax.vlines(reward_times, ymin=min(ts[0]), ymax=max(ts[0]), color='green', linestyle='--', linewidth=1, label='Reward')\n",
    "ax.vlines(punishment_times, ymin=min(ts[0]), ymax=max(ts[0]), color='red', linestyle='--', linewidth=1, label='Punishment')\n",
    "\n",
    "ax.set_title(\"Neuron 1 Calcium Trace with Rewards & Punishments\")\n",
    "ax.set_xlabel(\"Time (frames)\")\n",
    "ax.set_ylabel(\"Fluorescence\")\n",
    "ax.legend()\n",
    "plt.tight_layout()\n",
    "plt.show()"
   ]
  },
  {
   "cell_type": "markdown",
   "metadata": {},
   "source": [
    "Better but not good enough to get anything meaningful out of this!\n",
    "Let's try something else.\n",
    "\n",
    "In this case we already have our variables:\n",
    "-  ts[0], which is the calcium trace for our neuron;\n",
    "-  reward_times         → list of time indices where reward == 1\n",
    "-  punishment_times     → list of time indices where punish == 1\n",
    "\n",
    "Now we are going to use a different library, plotly. "
   ]
  },
  {
   "cell_type": "code",
   "execution_count": null,
   "metadata": {},
   "outputs": [],
   "source": [
    "# let's import the library \n",
    "import plotly.graph_objects as go"
   ]
  },
  {
   "cell_type": "markdown",
   "metadata": {},
   "source": [
    "Plotly is a library that allows us to visualise data in a more interactive way. It is different from matplotlib, let's see why."
   ]
  },
  {
   "cell_type": "code",
   "execution_count": null,
   "metadata": {},
   "outputs": [],
   "source": [
    "# Step 1: Create figure\n",
    "fig = go.Figure()"
   ]
  },
  {
   "cell_type": "code",
   "execution_count": null,
   "metadata": {},
   "outputs": [],
   "source": [
    "# Step 2: Add calcium trace line\n",
    "fig.add_trace(go.Scatter(\n",
    "    y=ts[0], mode='lines', name='Neuron 1',\n",
    "    line=dict(color='blue')\n",
    "))"
   ]
  },
  {
   "cell_type": "code",
   "execution_count": null,
   "metadata": {},
   "outputs": [],
   "source": [
    "# Step 3: Add reward markers (green dashed lines)\n",
    "for t in reward_times:\n",
    "    fig.add_vline(\n",
    "        x=t,\n",
    "        line=dict(color='green', width=1, dash='dash'),\n",
    "        annotation_text='Reward',\n",
    "        annotation_position='top left',\n",
    "        opacity=0.5\n",
    "    )"
   ]
  },
  {
   "cell_type": "code",
   "execution_count": null,
   "metadata": {},
   "outputs": [],
   "source": [
    "# Step 4: Add punishment markers (red dotted lines)\n",
    "for t in punishment_times:\n",
    "    fig.add_vline(\n",
    "        x=t,\n",
    "        line=dict(color='red', width=1, dash='dot'),\n",
    "        annotation_text='Punishment',\n",
    "        annotation_position='top right',\n",
    "        opacity=0.5\n",
    "    )"
   ]
  },
  {
   "cell_type": "code",
   "execution_count": null,
   "metadata": {},
   "outputs": [],
   "source": [
    "# Step 5: Put everything together and define the Layout settings\n",
    "fig.update_layout(\n",
    "    title='Neuron 1 Calcium Trace with Reward and Punishment Events',\n",
    "    xaxis_title='Time (frames)',\n",
    "    yaxis_title='Fluorescence (a.u.)',\n",
    "    width=1200,\n",
    "    height=500,\n",
    "    template='plotly_white'\n",
    ")\n",
    "fig.show()"
   ]
  },
  {
   "cell_type": "markdown",
   "metadata": {},
   "source": [
    "The beauty of plotly is that you can zoom in and out and scroll, as well as adding different variables like building blocks!\n",
    "\n",
    "On its own, this plot tells you the activity of this specific neuron in the presence of reward/punishment. \n",
    "\n",
    "\n",
    "**Now, go back to the data you have about the neuron, can you plot anything else that can give us more information?**"
   ]
  },
  {
   "cell_type": "code",
   "execution_count": null,
   "metadata": {},
   "outputs": [],
   "source": [
    "#Hint, you can plot the type of cue (go / nogo) and at what point the mouse licked"
   ]
  }
 ],
 "metadata": {
  "kernelspec": {
   "display_name": "ocv4",
   "language": "python",
   "name": "python3"
  },
  "language_info": {
   "codemirror_mode": {
    "name": "ipython",
    "version": 3
   },
   "file_extension": ".py",
   "mimetype": "text/x-python",
   "name": "python",
   "nbconvert_exporter": "python",
   "pygments_lexer": "ipython3",
   "version": "3.6.13"
  }
 },
 "nbformat": 4,
 "nbformat_minor": 2
}
