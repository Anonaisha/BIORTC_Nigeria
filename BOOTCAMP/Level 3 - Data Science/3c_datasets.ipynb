{
 "cells": [
  {
   "cell_type": "markdown",
   "metadata": {},
   "source": [
    "# Load your own datasets\n",
    "\n",
    "- - getaways from this: get practice with the dataformats relevent to the course, real datasets, handling these\n",
    "\n",
    "- look into spreadsheeet - what is importnat to project, what types of examples should we give? any preprocessing?"
   ]
  }
 ],
 "metadata": {
  "language_info": {
   "name": "python"
  }
 },
 "nbformat": 4,
 "nbformat_minor": 2
}
