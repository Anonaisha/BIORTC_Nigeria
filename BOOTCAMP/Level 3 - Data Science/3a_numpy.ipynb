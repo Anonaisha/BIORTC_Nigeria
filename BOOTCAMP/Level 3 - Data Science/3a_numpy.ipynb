{
 "cells": [
  {
   "cell_type": "markdown",
   "metadata": {},
   "source": [
    "# Numpy and handling of scientific data\n",
    "\n",
    "- TODO might use some of the \"day_4_scientific_python.ipynb\" - go over whether it fits the course!\n",
    "\n",
    "Python being used scientifically requires a good understanding of handling data. We will be using two libraries to do this Numpy. Numpy holds numeric arrays, but is written in a language called C (which is faster than Python). C is faster but harder to learn (arguibly), so Python acts as a front end between the efficiently stored arrays. The library comes with many different features for quick mathematical operations across large arrays.\n",
    "\n",
    "This sheet is to help you understand loading in a dataset and working with numbers.\n",
    "\n",
    "First of all lets import the libraries:"
   ]
  }
 ],
 "metadata": {
  "language_info": {
   "name": "python"
  }
 },
 "nbformat": 4,
 "nbformat_minor": 2
}
