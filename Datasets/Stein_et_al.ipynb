{
 "cells": [
  {
   "cell_type": "markdown",
   "metadata": {},
   "source": [
    "# Serial biases as in [Stein et al. (2020)](https://doi.org/10.1038/s41467-020-18033-3)"
   ]
  },
  {
   "cell_type": "code",
   "execution_count": 26,
   "metadata": {},
   "outputs": [],
   "source": [
    "import pandas as pd\n",
    "import numpy as np"
   ]
  },
  {
   "cell_type": "code",
   "execution_count": 27,
   "metadata": {},
   "outputs": [
    {
     "name": "stdout",
     "output_type": "stream",
     "text": [
      "1.3.4\n"
     ]
    }
   ],
   "source": [
    "print(pd.__version__)"
   ]
  },
  {
   "cell_type": "markdown",
   "metadata": {},
   "source": [
    "Calculate serial biases for each subject and condition based on raw data (location of mouse click responses in each trial):"
   ]
  },
  {
   "cell_type": "code",
   "execution_count": 28,
   "metadata": {},
   "outputs": [],
   "source": [
    "import helpers as hf\n",
    "import statsmodels.formula.api as smf\n",
    "\n",
    "alldat = pd.read_pickle(\"data/rawdat_all.pkl\")\n",
    "\n",
    "# serial bias parameters for sliding average\n",
    "window      = np.pi/3\n",
    "step        = np.pi/30\n",
    "\n",
    "dat    = alldat.groupby(['group','subject','session','delay']).apply(lambda x: \\\n",
    "          np.degrees(hf.folded_bias(x.prevcurr.values, x.error.values, window, step)[0])).reset_index()\n"
   ]
  },
  {
   "cell_type": "code",
   "execution_count": 29,
   "metadata": {},
   "outputs": [],
   "source": [
    "dat.loc[dat['delay']=='60', 'delay'] = '1'\n",
    "dat.loc[dat['delay']=='180', 'delay'] = '3'"
   ]
  },
  {
   "cell_type": "code",
   "execution_count": 30,
   "metadata": {},
   "outputs": [
    {
     "data": {
      "text/html": [
       "<div>\n",
       "<style scoped>\n",
       "    .dataframe tbody tr th:only-of-type {\n",
       "        vertical-align: middle;\n",
       "    }\n",
       "\n",
       "    .dataframe tbody tr th {\n",
       "        vertical-align: top;\n",
       "    }\n",
       "\n",
       "    .dataframe thead th {\n",
       "        text-align: right;\n",
       "    }\n",
       "</style>\n",
       "<table border=\"1\" class=\"dataframe\">\n",
       "  <thead>\n",
       "    <tr style=\"text-align: right;\">\n",
       "      <th></th>\n",
       "      <th>group</th>\n",
       "      <th>subject</th>\n",
       "      <th>session</th>\n",
       "      <th>delay</th>\n",
       "      <th>0</th>\n",
       "    </tr>\n",
       "  </thead>\n",
       "  <tbody>\n",
       "    <tr>\n",
       "      <th>0</th>\n",
       "      <td>C</td>\n",
       "      <td>C03</td>\n",
       "      <td>4</td>\n",
       "      <td>0</td>\n",
       "      <td>[0.00776900548542082, 0.10190519100958, 0.1517...</td>\n",
       "    </tr>\n",
       "    <tr>\n",
       "      <th>1</th>\n",
       "      <td>C</td>\n",
       "      <td>C03</td>\n",
       "      <td>4</td>\n",
       "      <td>3</td>\n",
       "      <td>[0.030219478162096206, 0.5623991149513637, 0.8...</td>\n",
       "    </tr>\n",
       "    <tr>\n",
       "      <th>2</th>\n",
       "      <td>C</td>\n",
       "      <td>C03</td>\n",
       "      <td>4</td>\n",
       "      <td>1</td>\n",
       "      <td>[-0.137800220422917, -0.22384173653258269, -0....</td>\n",
       "    </tr>\n",
       "    <tr>\n",
       "      <th>3</th>\n",
       "      <td>C</td>\n",
       "      <td>C05</td>\n",
       "      <td>1</td>\n",
       "      <td>0</td>\n",
       "      <td>[0.11954280544401191, 0.027153662613722648, -0...</td>\n",
       "    </tr>\n",
       "    <tr>\n",
       "      <th>4</th>\n",
       "      <td>C</td>\n",
       "      <td>C05</td>\n",
       "      <td>1</td>\n",
       "      <td>3</td>\n",
       "      <td>[1.4535057949229555, 1.1912377107990704, 2.371...</td>\n",
       "    </tr>\n",
       "    <tr>\n",
       "      <th>...</th>\n",
       "      <td>...</td>\n",
       "      <td>...</td>\n",
       "      <td>...</td>\n",
       "      <td>...</td>\n",
       "      <td>...</td>\n",
       "    </tr>\n",
       "    <tr>\n",
       "      <th>379</th>\n",
       "      <td>S</td>\n",
       "      <td>S21</td>\n",
       "      <td>1</td>\n",
       "      <td>3</td>\n",
       "      <td>[0.046217366811081635, -0.20149970575644421, 0...</td>\n",
       "    </tr>\n",
       "    <tr>\n",
       "      <th>380</th>\n",
       "      <td>S</td>\n",
       "      <td>S21</td>\n",
       "      <td>1</td>\n",
       "      <td>1</td>\n",
       "      <td>[-0.09056387835962067, -0.21726152987132188, -...</td>\n",
       "    </tr>\n",
       "    <tr>\n",
       "      <th>381</th>\n",
       "      <td>S</td>\n",
       "      <td>S22</td>\n",
       "      <td>1</td>\n",
       "      <td>0</td>\n",
       "      <td>[1.1586017543825533, -0.792310920320291, -0.26...</td>\n",
       "    </tr>\n",
       "    <tr>\n",
       "      <th>382</th>\n",
       "      <td>S</td>\n",
       "      <td>S22</td>\n",
       "      <td>1</td>\n",
       "      <td>3</td>\n",
       "      <td>[0.08953972689012805, -0.04473050404234532, -1...</td>\n",
       "    </tr>\n",
       "    <tr>\n",
       "      <th>383</th>\n",
       "      <td>S</td>\n",
       "      <td>S22</td>\n",
       "      <td>1</td>\n",
       "      <td>1</td>\n",
       "      <td>[-0.390952437252454, 0.03337114752765676, -0.0...</td>\n",
       "    </tr>\n",
       "  </tbody>\n",
       "</table>\n",
       "<p>384 rows × 5 columns</p>\n",
       "</div>"
      ],
      "text/plain": [
       "    group subject session delay  \\\n",
       "0       C     C03       4     0   \n",
       "1       C     C03       4     3   \n",
       "2       C     C03       4     1   \n",
       "3       C     C05       1     0   \n",
       "4       C     C05       1     3   \n",
       "..    ...     ...     ...   ...   \n",
       "379     S     S21       1     3   \n",
       "380     S     S21       1     1   \n",
       "381     S     S22       1     0   \n",
       "382     S     S22       1     3   \n",
       "383     S     S22       1     1   \n",
       "\n",
       "                                                     0  \n",
       "0    [0.00776900548542082, 0.10190519100958, 0.1517...  \n",
       "1    [0.030219478162096206, 0.5623991149513637, 0.8...  \n",
       "2    [-0.137800220422917, -0.22384173653258269, -0....  \n",
       "3    [0.11954280544401191, 0.027153662613722648, -0...  \n",
       "4    [1.4535057949229555, 1.1912377107990704, 2.371...  \n",
       "..                                                 ...  \n",
       "379  [0.046217366811081635, -0.20149970575644421, 0...  \n",
       "380  [-0.09056387835962067, -0.21726152987132188, -...  \n",
       "381  [1.1586017543825533, -0.792310920320291, -0.26...  \n",
       "382  [0.08953972689012805, -0.04473050404234532, -1...  \n",
       "383  [-0.390952437252454, 0.03337114752765676, -0.0...  \n",
       "\n",
       "[384 rows x 5 columns]"
      ]
     },
     "execution_count": 30,
     "metadata": {},
     "output_type": "execute_result"
    }
   ],
   "source": [
    "dat"
   ]
  },
  {
   "cell_type": "markdown",
   "metadata": {},
   "source": [
    "Now compute the mean of the curves for angles<90º as an overall measure of serial bias:"
   ]
  },
  {
   "cell_type": "code",
   "execution_count": 31,
   "metadata": {},
   "outputs": [
    {
     "data": {
      "text/html": [
       "<div>\n",
       "<style scoped>\n",
       "    .dataframe tbody tr th:only-of-type {\n",
       "        vertical-align: middle;\n",
       "    }\n",
       "\n",
       "    .dataframe tbody tr th {\n",
       "        vertical-align: top;\n",
       "    }\n",
       "\n",
       "    .dataframe thead th {\n",
       "        text-align: right;\n",
       "    }\n",
       "</style>\n",
       "<table border=\"1\" class=\"dataframe\">\n",
       "  <thead>\n",
       "    <tr style=\"text-align: right;\">\n",
       "      <th></th>\n",
       "      <th>group</th>\n",
       "      <th>subject</th>\n",
       "      <th>session</th>\n",
       "      <th>delay</th>\n",
       "      <th>SB</th>\n",
       "    </tr>\n",
       "  </thead>\n",
       "  <tbody>\n",
       "    <tr>\n",
       "      <th>0</th>\n",
       "      <td>C</td>\n",
       "      <td>C03</td>\n",
       "      <td>4</td>\n",
       "      <td>0</td>\n",
       "      <td>-0.037883</td>\n",
       "    </tr>\n",
       "    <tr>\n",
       "      <th>1</th>\n",
       "      <td>C</td>\n",
       "      <td>C03</td>\n",
       "      <td>4</td>\n",
       "      <td>3</td>\n",
       "      <td>0.830285</td>\n",
       "    </tr>\n",
       "    <tr>\n",
       "      <th>2</th>\n",
       "      <td>C</td>\n",
       "      <td>C03</td>\n",
       "      <td>4</td>\n",
       "      <td>1</td>\n",
       "      <td>-0.489773</td>\n",
       "    </tr>\n",
       "    <tr>\n",
       "      <th>3</th>\n",
       "      <td>C</td>\n",
       "      <td>C05</td>\n",
       "      <td>1</td>\n",
       "      <td>0</td>\n",
       "      <td>-0.097955</td>\n",
       "    </tr>\n",
       "    <tr>\n",
       "      <th>4</th>\n",
       "      <td>C</td>\n",
       "      <td>C05</td>\n",
       "      <td>1</td>\n",
       "      <td>3</td>\n",
       "      <td>1.690678</td>\n",
       "    </tr>\n",
       "    <tr>\n",
       "      <th>...</th>\n",
       "      <td>...</td>\n",
       "      <td>...</td>\n",
       "      <td>...</td>\n",
       "      <td>...</td>\n",
       "      <td>...</td>\n",
       "    </tr>\n",
       "    <tr>\n",
       "      <th>379</th>\n",
       "      <td>S</td>\n",
       "      <td>S21</td>\n",
       "      <td>1</td>\n",
       "      <td>3</td>\n",
       "      <td>0.425890</td>\n",
       "    </tr>\n",
       "    <tr>\n",
       "      <th>380</th>\n",
       "      <td>S</td>\n",
       "      <td>S21</td>\n",
       "      <td>1</td>\n",
       "      <td>1</td>\n",
       "      <td>-0.319232</td>\n",
       "    </tr>\n",
       "    <tr>\n",
       "      <th>381</th>\n",
       "      <td>S</td>\n",
       "      <td>S22</td>\n",
       "      <td>1</td>\n",
       "      <td>0</td>\n",
       "      <td>0.230486</td>\n",
       "    </tr>\n",
       "    <tr>\n",
       "      <th>382</th>\n",
       "      <td>S</td>\n",
       "      <td>S22</td>\n",
       "      <td>1</td>\n",
       "      <td>3</td>\n",
       "      <td>0.481917</td>\n",
       "    </tr>\n",
       "    <tr>\n",
       "      <th>383</th>\n",
       "      <td>S</td>\n",
       "      <td>S22</td>\n",
       "      <td>1</td>\n",
       "      <td>1</td>\n",
       "      <td>-0.410934</td>\n",
       "    </tr>\n",
       "  </tbody>\n",
       "</table>\n",
       "<p>384 rows × 5 columns</p>\n",
       "</div>"
      ],
      "text/plain": [
       "    group subject session delay        SB\n",
       "0       C     C03       4     0 -0.037883\n",
       "1       C     C03       4     3  0.830285\n",
       "2       C     C03       4     1 -0.489773\n",
       "3       C     C05       1     0 -0.097955\n",
       "4       C     C05       1     3  1.690678\n",
       "..    ...     ...     ...   ...       ...\n",
       "379     S     S21       1     3  0.425890\n",
       "380     S     S21       1     1 -0.319232\n",
       "381     S     S22       1     0  0.230486\n",
       "382     S     S22       1     3  0.481917\n",
       "383     S     S22       1     1 -0.410934\n",
       "\n",
       "[384 rows x 5 columns]"
      ]
     },
     "execution_count": 31,
     "metadata": {},
     "output_type": "execute_result"
    }
   ],
   "source": [
    "angles=np.linspace(0,360,len(dat[0][0]), endpoint=False)\n",
    "dat['SB'] = [np.mean(dat[0][s][angles<90]) for s in range(len(dat[0]))]\n",
    "dat = dat.drop(columns=[0]).reset_index(drop=True)\n",
    "dat"
   ]
  },
  {
   "cell_type": "markdown",
   "metadata": {},
   "source": [
    "Serial bias grows with delay, in the control group:"
   ]
  },
  {
   "cell_type": "code",
   "execution_count": 38,
   "metadata": {},
   "outputs": [
    {
     "data": {
      "text/plain": [
       "<AxesSubplot:xlabel='SB', ylabel='Probability'>"
      ]
     },
     "execution_count": 38,
     "metadata": {},
     "output_type": "execute_result"
    },
    {
     "data": {
      "image/png": "[encoded data removed]",
      "text/plain": [
       "<Figure size 432x288 with 1 Axes>"
      ]
     },
     "metadata": {
      "needs_background": "light"
     },
     "output_type": "display_data"
    }
   ],
   "source": [
    "sns.histplot(data=dat[dat['group']=='C'], x='SB', hue='delay', stat='probability', common_norm=False)"
   ]
  },
  {
   "cell_type": "markdown",
   "metadata": {},
   "source": [
    "At long delays, controls have more serial biases than the other two groups:"
   ]
  },
  {
   "cell_type": "code",
   "execution_count": null,
   "metadata": {},
   "outputs": [
    {
     "data": {
      "text/plain": [
       "<AxesSubplot:xlabel='SB', ylabel='Probability'>"
      ]
     },
     "execution_count": 37,
     "metadata": {},
     "output_type": "execute_result"
    },
    {
     "data": {
      "image/png": "[encoded data removed]",
      "text/plain": [
       "<Figure size 432x288 with 1 Axes>"
      ]
     },
     "metadata": {
      "needs_background": "light"
     },
     "output_type": "display_data"
    }
   ],
   "source": [
    "import matplotlib.pyplot as plt\n",
    "import seaborn as sns\n",
    "\n",
    "sns.histplot(data=dat[dat['delay']=='3'], x='SB', hue='group', stat='probability', common_norm=False)\n"
   ]
  },
  {
   "cell_type": "code",
   "execution_count": null,
   "metadata": {},
   "outputs": [],
   "source": []
  }
 ],
 "metadata": {
  "kernelspec": {
   "display_name": "pymer4",
   "language": "python",
   "name": "python3"
  },
  "language_info": {
   "codemirror_mode": {
    "name": "ipython",
    "version": 3
   },
   "file_extension": ".py",
   "mimetype": "text/x-python",
   "name": "python",
   "nbconvert_exporter": "python",
   "pygments_lexer": "ipython3",
   "version": "3.9.10"
  }
 },
 "nbformat": 4,
 "nbformat_minor": 2
}
